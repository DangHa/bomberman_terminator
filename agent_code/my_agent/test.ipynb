{
 "cells": [
  {
   "cell_type": "code",
   "execution_count": null,
   "metadata": {},
   "outputs": [],
   "source": [
    "transition_tuple = namedtuple('Transition', ('s', 'a', 'r', 'new_s'))\n",
    "    #transition_tuple = np.full((4), np.NaN)"
   ]
  },
  {
   "cell_type": "code",
   "execution_count": null,
   "metadata": {},
   "outputs": [],
   "source": [
    "    #(s, a, r, s') is initialized above\n",
    "    self.transitions = deque(maxlen=TRANSITION_HISTORY_SIZE)\n",
    "\n",
    "    #(epsilon, alpha, gamma) is initialized above\n",
    "    self.hyper_params = np.array([epsilon,alpha,gamma])"
   ]
  },
  {
   "cell_type": "code",
   "execution_count": 2,
   "metadata": {},
   "outputs": [],
   "source": [
    "import os\n",
    "import pickle\n",
    "import random\n",
    "\n",
    "import numpy as np"
   ]
  },
  {
   "cell_type": "code",
   "execution_count": 49,
   "metadata": {},
   "outputs": [],
   "source": [
    "weights = np.random.rand(3,6)"
   ]
  },
  {
   "cell_type": "code",
   "execution_count": 56,
   "metadata": {},
   "outputs": [
    {
     "data": {
      "text/plain": [
       "array([[0.38790886, 0.4394208 , 0.45106321, 0.23837173, 0.64446096,\n",
       "        0.71908456],\n",
       "       [0.86835158, 0.65182871, 0.94595353, 0.33834209, 0.72070478,\n",
       "        0.03345976],\n",
       "       [0.83190102, 0.11772551, 0.53019775, 0.40359731, 0.80705507,\n",
       "        0.8600288 ]])"
      ]
     },
     "execution_count": 56,
     "metadata": {},
     "output_type": "execute_result"
    }
   ],
   "source": [
    "weights"
   ]
  },
  {
   "cell_type": "code",
   "execution_count": 63,
   "metadata": {},
   "outputs": [
    {
     "data": {
      "text/plain": [
       "array([[0.13467608, 0.15256024, 0.15660231, 0.08275905, 0.22374707,\n",
       "        0.24965526],\n",
       "       [0.24401217, 0.1831679 , 0.2658188 , 0.09507622, 0.2025225 ,\n",
       "        0.0094024 ],\n",
       "       [0.23430495, 0.0331574 , 0.14933022, 0.1136732 , 0.22730709,\n",
       "        0.24222714]])"
      ]
     },
     "execution_count": 63,
     "metadata": {},
     "output_type": "execute_result"
    }
   ],
   "source": [
    "weights * (1/np.sum(weights, axis=1))[:, np.newaxis]"
   ]
  },
  {
   "cell_type": "code",
   "execution_count": 61,
   "metadata": {},
   "outputs": [
    {
     "data": {
      "text/plain": [
       "array([1.36246196, 0.82442986, 1.27129414, 0.65108912, 1.46415269,\n",
       "       1.14002443])"
      ]
     },
     "execution_count": 61,
     "metadata": {},
     "output_type": "execute_result"
    }
   ],
   "source": [
    "np.matmul(1/np.linalg.norm(weights, axis=1), weights)"
   ]
  },
  {
   "cell_type": "markdown",
   "metadata": {},
   "source": []
  },
  {
   "cell_type": "code",
   "execution_count": 51,
   "metadata": {},
   "outputs": [],
   "source": [
    "state_to_features = np.array([1,2,3])"
   ]
  },
  {
   "cell_type": "code",
   "execution_count": 52,
   "metadata": {},
   "outputs": [
    {
     "data": {
      "text/plain": [
       "array([4.62031507, 2.09625477, 3.93356353, 2.12584782, 4.50703571,\n",
       "       3.36609047])"
      ]
     },
     "execution_count": 52,
     "metadata": {},
     "output_type": "execute_result"
    }
   ],
   "source": [
    "a = np.matmul(state_to_features,weights)\n",
    "a"
   ]
  },
  {
   "cell_type": "code",
   "execution_count": 54,
   "metadata": {},
   "outputs": [
    {
     "data": {
      "text/plain": [
       "4.620315068124965"
      ]
     },
     "execution_count": 54,
     "metadata": {},
     "output_type": "execute_result"
    }
   ],
   "source": [
    "a = np.matmul(state_to_features,weights[:,0])\n",
    "\n",
    "a"
   ]
  },
  {
   "cell_type": "code",
   "execution_count": 16,
   "metadata": {},
   "outputs": [
    {
     "data": {
      "text/plain": [
       "1"
      ]
     },
     "execution_count": 16,
     "metadata": {},
     "output_type": "execute_result"
    }
   ],
   "source": [
    "a.argmax(axis=0)"
   ]
  },
  {
   "cell_type": "code",
   "execution_count": 21,
   "metadata": {},
   "outputs": [],
   "source": [
    "a = np.array([[1,1],[2,2],[2,5],[1,3]])\n",
    "\n",
    "b = np.array([2,2])"
   ]
  },
  {
   "cell_type": "code",
   "execution_count": 37,
   "metadata": {},
   "outputs": [
    {
     "data": {
      "text/plain": [
       "1"
      ]
     },
     "execution_count": 37,
     "metadata": {},
     "output_type": "execute_result"
    }
   ],
   "source": [
    "np.sqrt((a[:,0]-b[0])**2 + (a[:,1]-b[1])**2).argmin()"
   ]
  },
  {
   "cell_type": "code",
   "execution_count": 27,
   "metadata": {},
   "outputs": [
    {
     "data": {
      "text/plain": [
       "3.605551275463989"
      ]
     },
     "execution_count": 27,
     "metadata": {},
     "output_type": "execute_result"
    }
   ],
   "source": [
    "np.linalg.norm(a-b)"
   ]
  },
  {
   "cell_type": "code",
   "execution_count": null,
   "metadata": {},
   "outputs": [],
   "source": [
    "game_state[\"coins\"]\n",
    "    game_state[\"self\"][3]\n",
    "\n",
    "    index_nearest_coin = np.sqrt((game_state[\"coins\"][:,0]-game_state[\"self\"][3][0])**2 + (game_state[\"coins\"][:,1]-game_state[\"self\"][3][1])**2).argmin()\n"
   ]
  },
  {
   "cell_type": "code",
   "execution_count": 40,
   "metadata": {},
   "outputs": [
    {
     "data": {
      "text/plain": [
       "array([0., 0., 0., 0., 0., 0., 0., 0., 0., 0., 0., 0.])"
      ]
     },
     "execution_count": 40,
     "metadata": {},
     "output_type": "execute_result"
    }
   ],
   "source": [
    "\n",
    "\n",
    "# For example, you could construct several channels of equal shape, ...\n",
    "channels = []\n",
    "channels.append(np.zeros(6))\n",
    "channels.append(np.zeros(6))\n",
    "# concatenate them as a feature tensor (they must have the same shape), ...\n",
    "stacked_channels = np.stack(channels)\n",
    "# and return them as a vector\n",
    "stacked_channels.reshape(-1)"
   ]
  },
  {
   "cell_type": "code",
   "execution_count": 41,
   "metadata": {},
   "outputs": [],
   "source": [
    "from collections import namedtuple, deque"
   ]
  },
  {
   "cell_type": "code",
   "execution_count": 46,
   "metadata": {},
   "outputs": [
    {
     "data": {
      "text/plain": [
       "deque([1, 2])"
      ]
     },
     "execution_count": 46,
     "metadata": {},
     "output_type": "execute_result"
    }
   ],
   "source": [
    "TRANSITION_HISTORY_SIZE = 3\n",
    "d = deque(np.full((TRANSITION_HISTORY_SIZE), None), maxlen=TRANSITION_HISTORY_SIZE)\n",
    "\n",
    "d.append(1)\n",
    "d.append(2)\n",
    "d"
   ]
  },
  {
   "cell_type": "code",
   "execution_count": 48,
   "metadata": {},
   "outputs": [
    {
     "data": {
      "text/plain": [
       "deque([2, 3, 4])"
      ]
     },
     "execution_count": 48,
     "metadata": {},
     "output_type": "execute_result"
    }
   ],
   "source": [
    "TRANSITION_HISTORY_SIZE = 3\n",
    "d = deque(maxlen=TRANSITION_HISTORY_SIZE)\n",
    "\n",
    "d.append(1)\n",
    "d.append(2)\n",
    "d.append(3)\n",
    "d.append(4)\n",
    "\n",
    "d"
   ]
  },
  {
   "cell_type": "code",
   "execution_count": 55,
   "metadata": {},
   "outputs": [
    {
     "data": {
      "text/plain": [
       "True"
      ]
     },
     "execution_count": 55,
     "metadata": {},
     "output_type": "execute_result"
    }
   ],
   "source": [
    "os.path.isfile(\"my-saved-model.pt\")"
   ]
  },
  {
   "cell_type": "code",
   "execution_count": 189,
   "metadata": {},
   "outputs": [],
   "source": [
    "self_coord = np.array([4,4])\n",
    "self_coord_new = np.array([3,4])\n",
    "\n",
    "bombs_coord = np.array([[4,0],[4,1],[4,2],[4,3],[4,4],[0,3],[1,3],[2,3],[3,3],[3,4]])"
   ]
  },
  {
   "cell_type": "code",
   "execution_count": 193,
   "metadata": {},
   "outputs": [
    {
     "data": {
      "text/plain": [
       "0"
      ]
     },
     "execution_count": 193,
     "metadata": {},
     "output_type": "execute_result"
    }
   ],
   "source": [
    "bombs_coord[0][1]"
   ]
  },
  {
   "cell_type": "code",
   "execution_count": 165,
   "metadata": {},
   "outputs": [
    {
     "data": {
      "text/plain": [
       "array([[4, 0],\n",
       "       [4, 1],\n",
       "       [4, 2],\n",
       "       [4, 3],\n",
       "       [4, 4],\n",
       "       [3, 4]])"
      ]
     },
     "execution_count": 165,
     "metadata": {},
     "output_type": "execute_result"
    }
   ],
   "source": [
    "bombs_coord[( (bombs_coord[:,0] == self_coord[0]) & ((bombs_coord[:,1] >= self_coord[1] - 3) | (bombs_coord[:,1] <= self_coord[1] + 3))  ) | ( (bombs_coord[:,1] == self_coord[1]) & ((bombs_coord[:,0] >= self_coord[0] - 3) | (bombs_coord[:,0] <= self_coord[0] + 3)) )]"
   ]
  },
  {
   "cell_type": "code",
   "execution_count": 166,
   "metadata": {},
   "outputs": [],
   "source": [
    "bombs_in_range = bombs_coord[( (bombs_coord[:,0] == self_coord[0]) & ((bombs_coord[:,1] >= self_coord[1] - 3) | (bombs_coord[:,1] <= self_coord[1] + 3))  ) | ( (bombs_coord[:,1] == self_coord[1]) & ((bombs_coord[:,0] >= self_coord[0] - 3) | (bombs_coord[:,0] <= self_coord[0] + 3)) )]"
   ]
  },
  {
   "cell_type": "code",
   "execution_count": 185,
   "metadata": {},
   "outputs": [
    {
     "data": {
      "text/plain": [
       "False"
      ]
     },
     "execution_count": 185,
     "metadata": {},
     "output_type": "execute_result"
    }
   ],
   "source": [
    "\n"
   ]
  },
  {
   "cell_type": "code",
   "execution_count": 147,
   "metadata": {},
   "outputs": [
    {
     "data": {
      "text/plain": [
       "array([4, 4, 4, 4, 4, 3])"
      ]
     },
     "execution_count": 147,
     "metadata": {},
     "output_type": "execute_result"
    }
   ],
   "source": [
    "a = np.nonzero(self_coord_new - self_coord)\n",
    "b = np.where((self_coord_new - self_coord) == 0)[0][0]\n",
    "a = a[0][0]\n",
    "\n",
    "bombs_in_range[:,b]"
   ]
  },
  {
   "cell_type": "code",
   "execution_count": 74,
   "metadata": {},
   "outputs": [],
   "source": [
    "def get_bombs_in_range(self_coord,bombs_coord):\n",
    "    return bombs_coord[( (bombs_coord[:,0] == self_coord[0]) & ((bombs_coord[:,1] >= self_coord[1] - 3) | (bombs_coord[:,1] <= self_coord[1] + 3))  ) | ( (bombs_coord[:,1] == self_coord[1]) & ((bombs_coord[:,0] >= self_coord[0] - 3) | (bombs_coord[:,0] <= self_coord[0] + 3)) )]"
   ]
  },
  {
   "cell_type": "code",
   "execution_count": null,
   "metadata": {},
   "outputs": [],
   "source": [
    "def goes_away_from_bomb(self_coord, bombs_in_range, self_coord_new):\n",
    "    \n",
    "    if bombs_in_range.size == 0:\n",
    "        return False, 0\n",
    "\n",
    "    else:\n",
    "        #coord that changed\n",
    "        a = np.nonzero(self_coord_new - self_coord)[0][0]\n",
    "        #coord that didnt change\n",
    "        b = np.where((self_coord_new - self_coord) == 0)[0][0]\n",
    "\n",
    "\n",
    "        #weighted score of number of moved away bombs\n",
    "        num = 0\n",
    "\n",
    "\n",
    "        #get points for moving out of range (moved orthogonally to bomb)\n",
    "        num += np.count_nonzero(bombs_in_range[:,b] != self_coord[a])\n",
    "\n",
    "        #moved parallel to bomb\n",
    "\n",
    "        #remaining bombs\n",
    "        remaining_bombs = bombs_in_range[bombs_in_range[:,b] == self_coord[b]]\n",
    "\n",
    "        #give reward for moving away from bombs\n",
    "        num += 1 * ((abs(remaining_bombs[:,a] - self_coord_new[a]) - abs(remaining_bombs[:,a] - self_coord[a])) == 1).sum()\n",
    "\n",
    "        #give penalty for moving towards ... number of bombs\n",
    "        num -= 5 * ((abs(remaining_bombs[:,a] - self_coord_new[a]) - abs(remaining_bombs[:,a] - self_coord[a])) == -1).sum()\n",
    "\n",
    "        return True, num\n",
    "\n",
    "    \n"
   ]
  },
  {
   "cell_type": "code",
   "execution_count": null,
   "metadata": {},
   "outputs": [],
   "source": [
    "game_state[\"bombs\"][0][0] - game_state[\"self\"][3]"
   ]
  },
  {
   "cell_type": "code",
   "execution_count": 195,
   "metadata": {},
   "outputs": [
    {
     "data": {
      "text/plain": [
       "array([1, 0])"
      ]
     },
     "execution_count": 195,
     "metadata": {},
     "output_type": "execute_result"
    }
   ],
   "source": [
    "game_state_bombs_00 = np.array([4,4])\n",
    "game_state_self = np.array([3,4])\n",
    "\n",
    "\n",
    "game_state_bombs_00 - game_state_self"
   ]
  },
  {
   "cell_type": "code",
   "execution_count": null,
   "metadata": {},
   "outputs": [],
   "source": [
    "np.sqrt((game_state[\"coins\"][:,0]-game_state[\"self\"][3][0])**2 + (game_state[\"coins\"][:,1]-game_state[\"self\"][3][1])**2).argmin()"
   ]
  }
 ],
 "metadata": {
  "interpreter": {
   "hash": "7254a0aeccbfecfefd16a502f207c2dbc8a68d2ac5e9b090539b6cb2ac5bb5ed"
  },
  "kernelspec": {
   "display_name": "Python 3.9.7 64-bit",
   "language": "python",
   "name": "python3"
  },
  "language_info": {
   "codemirror_mode": {
    "name": "ipython",
    "version": 3
   },
   "file_extension": ".py",
   "mimetype": "text/x-python",
   "name": "python",
   "nbconvert_exporter": "python",
   "pygments_lexer": "ipython3",
   "version": "3.9.7"
  },
  "orig_nbformat": 4
 },
 "nbformat": 4,
 "nbformat_minor": 2
}
