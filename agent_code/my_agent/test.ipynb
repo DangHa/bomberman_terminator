{
 "cells": [
  {
   "cell_type": "code",
   "execution_count": 58,
   "metadata": {},
   "outputs": [
    {
     "ename": "NameError",
     "evalue": "name 'namedtuple' is not defined",
     "output_type": "error",
     "traceback": [
      "\u001b[1;31m---------------------------------------------------------------------------\u001b[0m",
      "\u001b[1;31mNameError\u001b[0m                                 Traceback (most recent call last)",
      "\u001b[1;32m~\\AppData\\Local\\Temp/ipykernel_12572/3472523017.py\u001b[0m in \u001b[0;36m<module>\u001b[1;34m\u001b[0m\n\u001b[1;32m----> 1\u001b[1;33m \u001b[0mtransition_tuple\u001b[0m \u001b[1;33m=\u001b[0m \u001b[0mnamedtuple\u001b[0m\u001b[1;33m(\u001b[0m\u001b[1;34m'Transition'\u001b[0m\u001b[1;33m,\u001b[0m \u001b[1;33m(\u001b[0m\u001b[1;34m's'\u001b[0m\u001b[1;33m,\u001b[0m \u001b[1;34m'a'\u001b[0m\u001b[1;33m,\u001b[0m \u001b[1;34m'r'\u001b[0m\u001b[1;33m,\u001b[0m \u001b[1;34m'new_s'\u001b[0m\u001b[1;33m)\u001b[0m\u001b[1;33m)\u001b[0m\u001b[1;33m\u001b[0m\u001b[1;33m\u001b[0m\u001b[0m\n\u001b[0m\u001b[0;32m      2\u001b[0m     \u001b[1;31m#transition_tuple = np.full((4), np.NaN)\u001b[0m\u001b[1;33m\u001b[0m\u001b[1;33m\u001b[0m\u001b[0m\n",
      "\u001b[1;31mNameError\u001b[0m: name 'namedtuple' is not defined"
     ]
    }
   ],
   "source": [
    "transition_tuple = namedtuple('Transition', ('s', 'a', 'r', 'new_s'))\n",
    "    #transition_tuple = np.full((4), np.NaN)"
   ]
  },
  {
   "cell_type": "code",
   "execution_count": null,
   "metadata": {},
   "outputs": [],
   "source": [
    "    #(s, a, r, s') is initialized above\n",
    "    self.transitions = deque(maxlen=TRANSITION_HISTORY_SIZE)\n",
    "\n",
    "    #(epsilon, alpha, gamma) is initialized above\n",
    "    self.hyper_params = np.array([epsilon,alpha,gamma])"
   ]
  },
  {
   "cell_type": "code",
   "execution_count": null,
   "metadata": {},
   "outputs": [],
   "source": [
    "import os\n",
    "import pickle\n",
    "import random\n",
    "\n",
    "import numpy as np"
   ]
  },
  {
   "cell_type": "code",
   "execution_count": null,
   "metadata": {},
   "outputs": [],
   "source": [
    "weights = np.random.rand(3,6)"
   ]
  },
  {
   "cell_type": "code",
   "execution_count": null,
   "metadata": {},
   "outputs": [],
   "source": [
    "weights"
   ]
  },
  {
   "cell_type": "code",
   "execution_count": null,
   "metadata": {},
   "outputs": [],
   "source": [
    "weights * (1/np.sum(weights, axis=1))[:, np.newaxis]"
   ]
  },
  {
   "cell_type": "code",
   "execution_count": null,
   "metadata": {},
   "outputs": [],
   "source": [
    "np.matmul(1/np.linalg.norm(weights, axis=1), weights)"
   ]
  },
  {
   "cell_type": "code",
   "execution_count": null,
   "metadata": {},
   "outputs": [],
   "source": [
    "state_to_features = np.array([1,2,3])"
   ]
  },
  {
   "cell_type": "code",
   "execution_count": null,
   "metadata": {},
   "outputs": [],
   "source": [
    "a = np.matmul(state_to_features,weights)\n",
    "a"
   ]
  },
  {
   "cell_type": "code",
   "execution_count": null,
   "metadata": {},
   "outputs": [],
   "source": [
    "a = np.matmul(state_to_features,weights[:,0])\n",
    "\n",
    "a"
   ]
  },
  {
   "cell_type": "code",
   "execution_count": null,
   "metadata": {},
   "outputs": [],
   "source": [
    "a.argmax(axis=0)"
   ]
  },
  {
   "cell_type": "code",
   "execution_count": null,
   "metadata": {},
   "outputs": [],
   "source": [
    "a = np.array([[1,1],[2,2],[2,5],[1,3]])\n",
    "\n",
    "b = np.array([2,2])"
   ]
  },
  {
   "cell_type": "code",
   "execution_count": null,
   "metadata": {},
   "outputs": [],
   "source": [
    "np.sqrt((a[:,0]-b[0])**2 + (a[:,1]-b[1])**2).argmin()"
   ]
  },
  {
   "cell_type": "code",
   "execution_count": null,
   "metadata": {},
   "outputs": [],
   "source": [
    "np.linalg.norm(a-b)"
   ]
  },
  {
   "cell_type": "code",
   "execution_count": null,
   "metadata": {},
   "outputs": [],
   "source": [
    "game_state[\"coins\"]\n",
    "    game_state[\"self\"][3]\n",
    "\n",
    "    index_nearest_coin = np.sqrt((game_state[\"coins\"][:,0]-game_state[\"self\"][3][0])**2 + (game_state[\"coins\"][:,1]-game_state[\"self\"][3][1])**2).argmin()\n"
   ]
  },
  {
   "cell_type": "code",
   "execution_count": null,
   "metadata": {},
   "outputs": [],
   "source": [
    "\n",
    "\n",
    "# For example, you could construct several channels of equal shape, ...\n",
    "channels = []\n",
    "channels.append(np.zeros(6))\n",
    "channels.append(np.zeros(6))\n",
    "# concatenate them as a feature tensor (they must have the same shape), ...\n",
    "stacked_channels = np.stack(channels)\n",
    "# and return them as a vector\n",
    "stacked_channels.reshape(-1)"
   ]
  },
  {
   "cell_type": "code",
   "execution_count": null,
   "metadata": {},
   "outputs": [],
   "source": [
    "from collections import namedtuple, deque"
   ]
  },
  {
   "cell_type": "code",
   "execution_count": null,
   "metadata": {},
   "outputs": [],
   "source": [
    "TRANSITION_HISTORY_SIZE = 3\n",
    "d = deque(np.full((TRANSITION_HISTORY_SIZE), None), maxlen=TRANSITION_HISTORY_SIZE)\n",
    "\n",
    "d.append(1)\n",
    "d.append(2)\n",
    "d"
   ]
  },
  {
   "cell_type": "code",
   "execution_count": null,
   "metadata": {},
   "outputs": [],
   "source": [
    "TRANSITION_HISTORY_SIZE = 3\n",
    "d = deque(maxlen=TRANSITION_HISTORY_SIZE)\n",
    "\n",
    "d.append(1)\n",
    "d.append(2)\n",
    "d.append(3)\n",
    "d.append(4)\n",
    "\n",
    "d"
   ]
  },
  {
   "cell_type": "code",
   "execution_count": null,
   "metadata": {},
   "outputs": [],
   "source": [
    "os.path.isfile(\"my-saved-model.pt\")"
   ]
  },
  {
   "cell_type": "code",
   "execution_count": null,
   "metadata": {},
   "outputs": [],
   "source": [
    "self_coord = np.array([4,4])\n",
    "self_coord_new = np.array([3,4])\n",
    "\n",
    "bombs_coord = np.array([[4,0],[4,1],[4,2],[4,3],[4,4],[0,3],[1,3],[2,3],[3,3],[3,4]])"
   ]
  },
  {
   "cell_type": "code",
   "execution_count": null,
   "metadata": {},
   "outputs": [],
   "source": [
    "bombs_coord[0][1]"
   ]
  },
  {
   "cell_type": "code",
   "execution_count": null,
   "metadata": {},
   "outputs": [],
   "source": [
    "bombs_coord[( (bombs_coord[:,0] == self_coord[0]) & ((bombs_coord[:,1] >= self_coord[1] - 3) | (bombs_coord[:,1] <= self_coord[1] + 3))  ) | ( (bombs_coord[:,1] == self_coord[1]) & ((bombs_coord[:,0] >= self_coord[0] - 3) | (bombs_coord[:,0] <= self_coord[0] + 3)) )]"
   ]
  },
  {
   "cell_type": "code",
   "execution_count": null,
   "metadata": {},
   "outputs": [],
   "source": [
    "bombs_in_range = bombs_coord[( (bombs_coord[:,0] == self_coord[0]) & ((bombs_coord[:,1] >= self_coord[1] - 3) | (bombs_coord[:,1] <= self_coord[1] + 3))  ) | ( (bombs_coord[:,1] == self_coord[1]) & ((bombs_coord[:,0] >= self_coord[0] - 3) | (bombs_coord[:,0] <= self_coord[0] + 3)) )]"
   ]
  },
  {
   "cell_type": "code",
   "execution_count": null,
   "metadata": {},
   "outputs": [],
   "source": [
    "a = np.nonzero(self_coord_new - self_coord)\n",
    "b = np.where((self_coord_new - self_coord) == 0)[0][0]\n",
    "a = a[0][0]\n",
    "\n",
    "bombs_in_range[:,b]"
   ]
  },
  {
   "cell_type": "code",
   "execution_count": null,
   "metadata": {},
   "outputs": [],
   "source": [
    "def get_bombs_in_range(self_coord,bombs_coord):\n",
    "    return bombs_coord[( (bombs_coord[:,0] == self_coord[0]) & ((bombs_coord[:,1] >= self_coord[1] - 3) | (bombs_coord[:,1] <= self_coord[1] + 3))  ) | ( (bombs_coord[:,1] == self_coord[1]) & ((bombs_coord[:,0] >= self_coord[0] - 3) | (bombs_coord[:,0] <= self_coord[0] + 3)) )]"
   ]
  },
  {
   "cell_type": "code",
   "execution_count": null,
   "metadata": {},
   "outputs": [],
   "source": [
    "def goes_away_from_bomb(self_coord, bombs_in_range, self_coord_new):\n",
    "    \n",
    "    if bombs_in_range.size == 0:\n",
    "        return False, 0\n",
    "\n",
    "    else:\n",
    "        #coord that changed\n",
    "        a = np.nonzero(self_coord_new - self_coord)[0][0]\n",
    "        #coord that didnt change\n",
    "        b = np.where((self_coord_new - self_coord) == 0)[0][0]\n",
    "\n",
    "\n",
    "        #weighted score of number of moved away bombs\n",
    "        num = 0\n",
    "\n",
    "\n",
    "        #get points for moving out of range (moved orthogonally to bomb)\n",
    "        num += np.count_nonzero(bombs_in_range[:,b] != self_coord[a])\n",
    "\n",
    "        #moved parallel to bomb\n",
    "\n",
    "        #remaining bombs\n",
    "        remaining_bombs = bombs_in_range[bombs_in_range[:,b] == self_coord[b]]\n",
    "\n",
    "        #give reward for moving away from bombs\n",
    "        num += 1 * ((abs(remaining_bombs[:,a] - self_coord_new[a]) - abs(remaining_bombs[:,a] - self_coord[a])) == 1).sum()\n",
    "\n",
    "        #give penalty for moving towards ... number of bombs\n",
    "        num -= 5 * ((abs(remaining_bombs[:,a] - self_coord_new[a]) - abs(remaining_bombs[:,a] - self_coord[a])) == -1).sum()\n",
    "\n",
    "        return True, num\n",
    "\n",
    "    \n"
   ]
  },
  {
   "cell_type": "code",
   "execution_count": null,
   "metadata": {},
   "outputs": [],
   "source": [
    "game_state[\"bombs\"][0][0] - game_state[\"self\"][3]"
   ]
  },
  {
   "cell_type": "code",
   "execution_count": null,
   "metadata": {},
   "outputs": [],
   "source": [
    "game_state_bombs_00 = np.array([4,4])\n",
    "game_state_self = np.array([3,4])\n",
    "\n",
    "\n",
    "game_state_bombs_00 - game_state_self"
   ]
  },
  {
   "cell_type": "code",
   "execution_count": null,
   "metadata": {},
   "outputs": [],
   "source": [
    "np.sqrt((game_state[\"coins\"][:,0]-game_state[\"self\"][3][0])**2 + (game_state[\"coins\"][:,1]-game_state[\"self\"][3][1])**2).argmin()"
   ]
  },
  {
   "cell_type": "code",
   "execution_count": null,
   "metadata": {},
   "outputs": [],
   "source": [
    "w = np.array([1,2,3,4])\n",
    "\n",
    "f = np.array([[1,2,1,1],[1,2,3,1]])"
   ]
  },
  {
   "cell_type": "code",
   "execution_count": null,
   "metadata": {},
   "outputs": [],
   "source": [
    "print(w * f)\n",
    "print(((w * f).sum(axis=1)))\n",
    "print(((w * f).sum(axis=1)).argmax(axis=0))"
   ]
  },
  {
   "cell_type": "code",
   "execution_count": null,
   "metadata": {},
   "outputs": [],
   "source": [
    "f = np.array([1,2,1,1])\n",
    "print((w * f))\n",
    "print(sum(w * f))"
   ]
  },
  {
   "cell_type": "code",
   "execution_count": null,
   "metadata": {},
   "outputs": [],
   "source": [
    "import numpy as np"
   ]
  },
  {
   "cell_type": "code",
   "execution_count": null,
   "metadata": {},
   "outputs": [],
   "source": [
    "a = np.array([[-1, -1, -1, -1, -1, -1, -1, -1, -1, -1, -1, -1, -1, -1, -1, -1, -1],\n",
    " [-1,  0,  0,  0,  0,  0,  0,  0,  0,  0,  0,  0,  0,  0,  0,  0, -1],\n",
    " [-1,  0, -1,  0, -1,  0, -1,  0, -1,  0, -1,  0, -1,  0, -1,  0, -1],\n",
    " [-1,  0,  1,  1,  0,  0,  0,  0,  0,  0,  0,  0,  0,  0,  0,  0, -1],\n",
    " [-1,  0, -1,  0, -1,  0, -1,  0, -1,  0, -1,  0, -1,  0, -1,  0, -1],\n",
    " [-1,  0,  0,  0,  0,  0,  0,  0,  0,  0,  0,  0,  0,  0,  0,  0, -1],\n",
    " [-1,  0, -1,  0, -1,  0, -1,  0, -1,  0, -1,  0, -1,  0, -1,  0, -1],\n",
    " [-1,  0,  0,  0,  0,  0,  0,  0,  0,  0,  0,  0,  0,  0,  0,  0, -1],\n",
    " [-1,  0, -1,  0, -1,  0, -1,  0, -1,  0, -1,  0, -1,  0, -1,  0, -1],\n",
    " [-1,  0,  0,  0,  0,  0,  0,  0,  0,  0,  0,  0,  0,  0,  0,  0, -1],\n",
    " [-1,  0, -1,  0, -1,  0, -1,  0, -1,  0, -1,  0, -1,  0, -1,  0, -1],\n",
    " [-1,  0,  0,  0,  0,  0,  0,  0,  0,  0,  0,  0,  0,  0,  0,  0, -1],\n",
    " [-1,  1, -1,  0, -1,  0, -1,  0, -1,  0, -1,  0, -1,  0, -1,  0, -1],\n",
    " [-1,  0,  0,  0,  0,  0,  0,  0,  0,  0,  0,  0,  0,  1,  1,  0, -1],\n",
    " [-1,  0, -1,  0, -1,  0, -1,  0, -1,  0, -1,  0, -1,  0, -1,  0, -1],\n",
    " [-1,  0,  0,  0,  0,  0,  0,  0,  0,  0,  0,  0,  0,  0,  0,  0, -1],\n",
    " [-1, -1, -1, -1, -1, -1, -1, -1, -1, -1, -1, -1, -1, -1, -1, -1, -1]])\n",
    "\n"
   ]
  },
  {
   "cell_type": "code",
   "execution_count": null,
   "metadata": {},
   "outputs": [],
   "source": [
    "agent_coord_y = 3\n",
    "agent_coord_x = 5"
   ]
  },
  {
   "cell_type": "code",
   "execution_count": null,
   "metadata": {},
   "outputs": [
    {
     "data": {
      "text/plain": [
       "-1"
      ]
     },
     "execution_count": 5,
     "metadata": {},
     "output_type": "execute_result"
    }
   ],
   "source": [
    "a[14][14] #up"
   ]
  },
  {
   "cell_type": "code",
   "execution_count": 115,
   "metadata": {},
   "outputs": [
    {
     "data": {
      "text/plain": [
       "[(3, 2), (3, 3), (12, 1), (13, 13), (13, 14)]"
      ]
     },
     "execution_count": 115,
     "metadata": {},
     "output_type": "execute_result"
    }
   ],
   "source": [
    "        \n",
    "agent_coord_x = 1\n",
    "agent_coord_y = 1\n",
    "\n",
    "#generate a 'crate_locations' list like the coin_locations\n",
    "x_vals = np.where(a == 1)[1]\n",
    "y_vals = np.where(a == 1)[0]\n",
    "crate_locations = [(x, y) for (x, y) in zip(y_vals, x_vals) if y is not None]\n",
    "\n",
    "crate_locations"
   ]
  },
  {
   "cell_type": "code",
   "execution_count": null,
   "metadata": {},
   "outputs": [
    {
     "data": {
      "text/plain": [
       "[2, 3]"
      ]
     },
     "execution_count": 7,
     "metadata": {},
     "output_type": "execute_result"
    }
   ],
   "source": [
    "closest_crate = None\n",
    "closest_dist = 100\n",
    "\n",
    "# find the closest crate\n",
    "for crate_x, crate_y in crate_locations:\n",
    "    dist = np.linalg.norm([crate_x - agent_coord_x, crate_y - agent_coord_y])\n",
    "    if dist < closest_dist:\n",
    "        closest_dist = dist\n",
    "        closest_crate = [crate_x, crate_y]\n",
    "\n",
    "closest_crate"
   ]
  },
  {
   "cell_type": "code",
   "execution_count": null,
   "metadata": {},
   "outputs": [
    {
     "name": "stdout",
     "output_type": "stream",
     "text": [
      "2\n",
      "3\n"
     ]
    }
   ],
   "source": [
    "x, y = closest_crate\n",
    "print(x)\n",
    "print(y)"
   ]
  },
  {
   "cell_type": "code",
   "execution_count": null,
   "metadata": {},
   "outputs": [
    {
     "data": {
      "text/plain": [
       "[((11, 2), 3), ((2, 4), 0), ((4, 3), 3)]"
      ]
     },
     "execution_count": 131,
     "metadata": {},
     "output_type": "execute_result"
    }
   ],
   "source": [
    "a = [((11, 2), 3), ((2,4), 0), ((4, 3), 3)] \n",
    "a"
   ]
  },
  {
   "cell_type": "code",
   "execution_count": null,
   "metadata": {},
   "outputs": [
    {
     "data": {
      "text/plain": [
       "[((2, 4), 0), ((4, 3), 3), ((11, 2), 3)]"
      ]
     },
     "execution_count": 133,
     "metadata": {},
     "output_type": "execute_result"
    }
   ],
   "source": [
    "agent_coord_x = 1\n",
    "agent_coord_y = 1\n",
    "\n",
    "g = sorted( a, key = lambda coord: np.linalg.norm([coord[0][0] - agent_coord_x, coord[0][1] - agent_coord_y] ) )\n",
    "g"
   ]
  },
  {
   "cell_type": "code",
   "execution_count": null,
   "metadata": {},
   "outputs": [
    {
     "data": {
      "text/plain": [
       "[((1, 1), 1), ((0, 7), 1), ((2, 4), 3)]"
      ]
     },
     "execution_count": 212,
     "metadata": {},
     "output_type": "execute_result"
    }
   ],
   "source": [
    "g[-1] = ((2,4), 3)\n",
    "g[-2] = ((0,7), 1)\n",
    "g[-3] = ((1,1), 1)\n",
    "\n",
    "g"
   ]
  },
  {
   "cell_type": "code",
   "execution_count": null,
   "metadata": {},
   "outputs": [],
   "source": [
    "def func(a):\n",
    "    return (a[0] + 1, a[0] + 1)"
   ]
  },
  {
   "cell_type": "code",
   "execution_count": null,
   "metadata": {},
   "outputs": [
    {
     "data": {
      "text/plain": [
       "[True, False, False]"
      ]
     },
     "execution_count": 177,
     "metadata": {},
     "output_type": "execute_result"
    }
   ],
   "source": [
    "[(is_bomb_dangerous(i[0], agent_coord_x, agent_coord_y)) for i in g ]"
   ]
  },
  {
   "cell_type": "code",
   "execution_count": null,
   "metadata": {},
   "outputs": [
    {
     "name": "stdout",
     "output_type": "stream",
     "text": [
      "[True, True, False, False]\n",
      "[True, False, True, False]\n"
     ]
    }
   ],
   "source": [
    "u = [True, True, False, False]\n",
    "v = [True, False, True, False]\n",
    "\n",
    "\n",
    "print(u)\n",
    "print(v)"
   ]
  },
  {
   "cell_type": "code",
   "execution_count": null,
   "metadata": {},
   "outputs": [
    {
     "data": {
      "text/plain": [
       "array([ True,  True,  True, False])"
      ]
     },
     "execution_count": 174,
     "metadata": {},
     "output_type": "execute_result"
    }
   ],
   "source": [
    "np.logical_and(u,v)\n",
    "np.logical_or(u,v)\n"
   ]
  },
  {
   "cell_type": "code",
   "execution_count": null,
   "metadata": {},
   "outputs": [
    {
     "data": {
      "text/plain": [
       "[((1, 1), 1), ((0, 7), 1), ((2, 4), 3)]"
      ]
     },
     "execution_count": 213,
     "metadata": {},
     "output_type": "execute_result"
    }
   ],
   "source": [
    "now_in_range = [is_bomb_dangerous(i[0], agent_coord_x, agent_coord_y - 1) for i in g ]\n",
    "not_already_in_range = [not (is_bomb_dangerous(i[0], agent_coord_x, agent_coord_y)) for i in g ]\n",
    "\n",
    "went_into_range = np.logical_and(now_in_range, not_already_in_range)\n",
    "condition = np.logical_or(went_into_range, went_into_range)\n",
    "\n",
    "condition = [False, True, True]\n",
    "g"
   ]
  },
  {
   "cell_type": "code",
   "execution_count": null,
   "metadata": {},
   "outputs": [
    {
     "data": {
      "text/plain": [
       "True"
      ]
     },
     "execution_count": 218,
     "metadata": {},
     "output_type": "execute_result"
    }
   ],
   "source": [
    "1 in [g[i][1] for i in np.where(condition)[0]]"
   ]
  },
  {
   "cell_type": "code",
   "execution_count": null,
   "metadata": {},
   "outputs": [],
   "source": []
  },
  {
   "cell_type": "code",
   "execution_count": null,
   "metadata": {},
   "outputs": [],
   "source": []
  },
  {
   "cell_type": "code",
   "execution_count": null,
   "metadata": {},
   "outputs": [
    {
     "data": {
      "text/plain": [
       "1"
      ]
     },
     "execution_count": 144,
     "metadata": {},
     "output_type": "execute_result"
    }
   ],
   "source": [
    "len([i for i in range(len(g)) if g[i][0] != None])"
   ]
  },
  {
   "cell_type": "code",
   "execution_count": null,
   "metadata": {},
   "outputs": [
    {
     "data": {
      "text/plain": [
       "[]"
      ]
     },
     "execution_count": 154,
     "metadata": {},
     "output_type": "execute_result"
    }
   ],
   "source": [
    "g[:0]"
   ]
  },
  {
   "cell_type": "code",
   "execution_count": null,
   "metadata": {},
   "outputs": [
    {
     "name": "stdout",
     "output_type": "stream",
     "text": [
      "[0, 2]\n",
      "(11, 2)\n",
      "(4, 3)\n"
     ]
    }
   ],
   "source": [
    "bomb_index = [i for i in range(len(a)) if a[i][0] != None]\n",
    "print(bomb_index)\n",
    "\n",
    "bomb_coord1 = a[ bomb_index[0] ][0]\n",
    "bomb_coord2 = a[ bomb_index[1] ][0]\n",
    "\n",
    "print(bomb_coord1)\n",
    "print(bomb_coord2)"
   ]
  },
  {
   "cell_type": "code",
   "execution_count": null,
   "metadata": {},
   "outputs": [
    {
     "name": "stdout",
     "output_type": "stream",
     "text": [
      "((11, 2), 3)\n",
      "11\n",
      "2\n"
     ]
    }
   ],
   "source": [
    "g = [i for i in range(len(a)) if a[i][0] != None]\n",
    "f = a[ g[0] ]\n",
    "print(f)\n",
    "print(f[0][0])\n",
    "print(f[0][1])"
   ]
  },
  {
   "cell_type": "code",
   "execution_count": null,
   "metadata": {},
   "outputs": [
    {
     "data": {
      "text/plain": [
       "[(11, 2), None, (4, 3)]"
      ]
     },
     "execution_count": 104,
     "metadata": {},
     "output_type": "execute_result"
    }
   ],
   "source": [
    "g = dangerous_bombs = [item[0] for item in a] \n",
    "g"
   ]
  },
  {
   "cell_type": "code",
   "execution_count": null,
   "metadata": {},
   "outputs": [
    {
     "data": {
      "text/plain": [
       "[0, 2]"
      ]
     },
     "execution_count": 112,
     "metadata": {},
     "output_type": "execute_result"
    }
   ],
   "source": [
    "g = [i for i in range(len(a)) if a[i][0] != None]\n",
    "g"
   ]
  },
  {
   "cell_type": "code",
   "execution_count": null,
   "metadata": {},
   "outputs": [
    {
     "ename": "TypeError",
     "evalue": "'NoneType' object is not subscriptable",
     "output_type": "error",
     "traceback": [
      "\u001b[1;31m---------------------------------------------------------------------------\u001b[0m",
      "\u001b[1;31mTypeError\u001b[0m                                 Traceback (most recent call last)",
      "\u001b[1;32m~\\AppData\\Local\\Temp/ipykernel_17968/1562890414.py\u001b[0m in \u001b[0;36m<module>\u001b[1;34m\u001b[0m\n\u001b[1;32m----> 1\u001b[1;33m \u001b[0mg\u001b[0m \u001b[1;33m=\u001b[0m \u001b[0msorted\u001b[0m\u001b[1;33m(\u001b[0m \u001b[0ma\u001b[0m\u001b[1;33m,\u001b[0m \u001b[0mkey\u001b[0m \u001b[1;33m=\u001b[0m \u001b[1;32mlambda\u001b[0m \u001b[0mcoord\u001b[0m\u001b[1;33m:\u001b[0m \u001b[0mnp\u001b[0m\u001b[1;33m.\u001b[0m\u001b[0mlinalg\u001b[0m\u001b[1;33m.\u001b[0m\u001b[0mnorm\u001b[0m\u001b[1;33m(\u001b[0m\u001b[1;33m[\u001b[0m\u001b[0mcoord\u001b[0m\u001b[1;33m[\u001b[0m\u001b[1;36m0\u001b[0m\u001b[1;33m]\u001b[0m\u001b[1;33m[\u001b[0m\u001b[1;36m0\u001b[0m\u001b[1;33m]\u001b[0m \u001b[1;33m-\u001b[0m \u001b[0magent_coord_x\u001b[0m\u001b[1;33m,\u001b[0m \u001b[0mcoord\u001b[0m\u001b[1;33m[\u001b[0m\u001b[1;36m0\u001b[0m\u001b[1;33m]\u001b[0m\u001b[1;33m[\u001b[0m\u001b[1;36m1\u001b[0m\u001b[1;33m]\u001b[0m \u001b[1;33m-\u001b[0m \u001b[0magent_coord_y\u001b[0m\u001b[1;33m]\u001b[0m \u001b[1;33m)\u001b[0m \u001b[1;33m)\u001b[0m\u001b[1;33m\u001b[0m\u001b[1;33m\u001b[0m\u001b[0m\n\u001b[0m\u001b[0;32m      2\u001b[0m \u001b[0mgg\u001b[0m \u001b[1;33m=\u001b[0m \u001b[1;33m[\u001b[0m\u001b[0mg\u001b[0m\u001b[1;33m,\u001b[0m \u001b[1;36m3\u001b[0m\u001b[1;33m]\u001b[0m\u001b[1;33m\u001b[0m\u001b[1;33m\u001b[0m\u001b[0m\n\u001b[0;32m      3\u001b[0m \u001b[0mg\u001b[0m\u001b[1;33m\u001b[0m\u001b[1;33m\u001b[0m\u001b[0m\n",
      "\u001b[1;32m~\\AppData\\Local\\Temp/ipykernel_17968/1562890414.py\u001b[0m in \u001b[0;36m<lambda>\u001b[1;34m(coord)\u001b[0m\n\u001b[1;32m----> 1\u001b[1;33m \u001b[0mg\u001b[0m \u001b[1;33m=\u001b[0m \u001b[0msorted\u001b[0m\u001b[1;33m(\u001b[0m \u001b[0ma\u001b[0m\u001b[1;33m,\u001b[0m \u001b[0mkey\u001b[0m \u001b[1;33m=\u001b[0m \u001b[1;32mlambda\u001b[0m \u001b[0mcoord\u001b[0m\u001b[1;33m:\u001b[0m \u001b[0mnp\u001b[0m\u001b[1;33m.\u001b[0m\u001b[0mlinalg\u001b[0m\u001b[1;33m.\u001b[0m\u001b[0mnorm\u001b[0m\u001b[1;33m(\u001b[0m\u001b[1;33m[\u001b[0m\u001b[0mcoord\u001b[0m\u001b[1;33m[\u001b[0m\u001b[1;36m0\u001b[0m\u001b[1;33m]\u001b[0m\u001b[1;33m[\u001b[0m\u001b[1;36m0\u001b[0m\u001b[1;33m]\u001b[0m \u001b[1;33m-\u001b[0m \u001b[0magent_coord_x\u001b[0m\u001b[1;33m,\u001b[0m \u001b[0mcoord\u001b[0m\u001b[1;33m[\u001b[0m\u001b[1;36m0\u001b[0m\u001b[1;33m]\u001b[0m\u001b[1;33m[\u001b[0m\u001b[1;36m1\u001b[0m\u001b[1;33m]\u001b[0m \u001b[1;33m-\u001b[0m \u001b[0magent_coord_y\u001b[0m\u001b[1;33m]\u001b[0m \u001b[1;33m)\u001b[0m \u001b[1;33m)\u001b[0m\u001b[1;33m\u001b[0m\u001b[1;33m\u001b[0m\u001b[0m\n\u001b[0m\u001b[0;32m      2\u001b[0m \u001b[0mgg\u001b[0m \u001b[1;33m=\u001b[0m \u001b[1;33m[\u001b[0m\u001b[0mg\u001b[0m\u001b[1;33m,\u001b[0m \u001b[1;36m3\u001b[0m\u001b[1;33m]\u001b[0m\u001b[1;33m\u001b[0m\u001b[1;33m\u001b[0m\u001b[0m\n\u001b[0;32m      3\u001b[0m \u001b[0mg\u001b[0m\u001b[1;33m\u001b[0m\u001b[1;33m\u001b[0m\u001b[0m\n",
      "\u001b[1;31mTypeError\u001b[0m: 'NoneType' object is not subscriptable"
     ]
    }
   ],
   "source": [
    "g = sorted( a, key = lambda coord: np.linalg.norm([coord[0][0] - agent_coord_x, coord[0][1] - agent_coord_y] ) )\n",
    "gg = [g, 3]\n",
    "g"
   ]
  },
  {
   "cell_type": "code",
   "execution_count": null,
   "metadata": {},
   "outputs": [
    {
     "data": {
      "text/plain": [
       "(2, 1)"
      ]
     },
     "execution_count": 87,
     "metadata": {},
     "output_type": "execute_result"
    }
   ],
   "source": [
    "k[1]"
   ]
  },
  {
   "cell_type": "code",
   "execution_count": null,
   "metadata": {},
   "outputs": [
    {
     "data": {
      "text/plain": [
       "[((4, 3), 3), ((2, 1), 3), ((11, 2), 3)]"
      ]
     },
     "execution_count": 91,
     "metadata": {},
     "output_type": "execute_result"
    }
   ],
   "source": [
    "dangerous_bombs = gg[0]\n",
    "dangerous_bombs"
   ]
  },
  {
   "cell_type": "code",
   "execution_count": null,
   "metadata": {},
   "outputs": [],
   "source": []
  },
  {
   "cell_type": "code",
   "execution_count": null,
   "metadata": {},
   "outputs": [
    {
     "data": {
      "text/plain": [
       "[(2, 1), (4, 3)]"
      ]
     },
     "execution_count": 43,
     "metadata": {},
     "output_type": "execute_result"
    }
   ],
   "source": [
    "\n",
    "agent_coord_x = 1\n",
    "agent_coord_y = 1\n",
    "\n",
    "#generate a 'bomb_locations' list like the coin_locations, so like:  [(x,y), (x,y), (x,y)]\n",
    "bomb_locations = [item[0] for item in [((11, 2), 3), ((2, 1), 3), ((4, 3), 3)] ]\n",
    "\n",
    "\n",
    "closest_bomb1 = None\n",
    "closest_bomb2 = None\n",
    "closest_dist = 100\n",
    "\n",
    "# find the 2 closest bombs\n",
    "if len(bomb_locations) != 0:\n",
    "    #sort 'bomb_locations' list according to cartesian distance to agent\n",
    "    bomb_locations_sorted = sorted( bomb_locations, key = lambda coord: np.linalg.norm([coord[0] - agent_coord_x, coord[1] - agent_coord_y] ) )\n",
    "\n",
    "    if len(bomb_locations) == 1:\n",
    "        closest_bomb1 = bomb_locations_sorted[0]\n",
    "    \n",
    "    if len(bomb_locations) > 1:\n",
    "        closest_bomb1 = bomb_locations_sorted[0]\n",
    "        closest_bomb2 = bomb_locations_sorted[1]\n",
    "\n",
    "    \n",
    "[closest_bomb1, closest_bomb2]"
   ]
  },
  {
   "cell_type": "code",
   "execution_count": null,
   "metadata": {},
   "outputs": [
    {
     "data": {
      "text/plain": [
       "[(2, 1), (4, 3)]"
      ]
     },
     "execution_count": 51,
     "metadata": {},
     "output_type": "execute_result"
    }
   ],
   "source": [
    "version1 = [closest_bomb1, closest_bomb2]\n",
    "version2 = [closest_bomb1, None]\n",
    "version3 = [None, None]\n",
    "version1"
   ]
  },
  {
   "cell_type": "code",
   "execution_count": null,
   "metadata": {},
   "outputs": [
    {
     "data": {
      "text/plain": [
       "2"
      ]
     },
     "execution_count": 49,
     "metadata": {},
     "output_type": "execute_result"
    }
   ],
   "source": [
    "bomb = version1[0]\n",
    "bomb[0]"
   ]
  },
  {
   "cell_type": "code",
   "execution_count": null,
   "metadata": {},
   "outputs": [],
   "source": [
    "#helper helper function\n",
    "def is_bomb_dangerous(bomb, agent_coord_x, agent_coord_y):\n",
    "\n",
    "    if bomb is not None:\n",
    "\n",
    "        #agent in y range of explosion\n",
    "        if abs(bomb[1] - agent_coord_y) <= 3 and abs(bomb[0] - agent_coord_x) == 0:\n",
    "            #no wall in between\n",
    "            if (agent_coord_x % 2) != 0 :\n",
    "                return True\n",
    "        \n",
    "        #range bomb in x range of explosion\n",
    "        if abs(bomb[0] - agent_coord_x) <= 3 and abs(bomb[1] - agent_coord_y) == 0:\n",
    "            #no wall in between\n",
    "            if (agent_coord_y % 2) != 0 :\n",
    "                return True\n",
    "\n",
    "    return False"
   ]
  },
  {
   "cell_type": "code",
   "execution_count": null,
   "metadata": {},
   "outputs": [
    {
     "data": {
      "text/plain": [
       "False"
      ]
     },
     "execution_count": 54,
     "metadata": {},
     "output_type": "execute_result"
    }
   ],
   "source": [
    "is_bomb_dangerous(version1[1], 1, 1)"
   ]
  },
  {
   "cell_type": "code",
   "execution_count": null,
   "metadata": {},
   "outputs": [
    {
     "data": {
      "text/plain": [
       "0"
      ]
     },
     "execution_count": 56,
     "metadata": {},
     "output_type": "execute_result"
    }
   ],
   "source": [
    "test_list = [1]\n",
    "\n",
    "[i for i in range(len(test_list)) if test_list[i] != None][0]"
   ]
  },
  {
   "cell_type": "code",
   "execution_count": null,
   "metadata": {},
   "outputs": [],
   "source": [
    "def func():\n",
    "    return 1, 2\n",
    "\n",
    "def add(a,b):\n",
    "    return a + b"
   ]
  },
  {
   "cell_type": "code",
   "execution_count": null,
   "metadata": {},
   "outputs": [
    {
     "data": {
      "text/plain": [
       "(1, 2)"
      ]
     },
     "execution_count": 61,
     "metadata": {},
     "output_type": "execute_result"
    }
   ],
   "source": [
    "func()"
   ]
  },
  {
   "cell_type": "code",
   "execution_count": null,
   "metadata": {},
   "outputs": [],
   "source": []
  },
  {
   "cell_type": "code",
   "execution_count": null,
   "metadata": {},
   "outputs": [],
   "source": []
  },
  {
   "cell_type": "code",
   "execution_count": null,
   "metadata": {},
   "outputs": [],
   "source": [
    "import numpy as np"
   ]
  },
  {
   "cell_type": "code",
   "execution_count": 218,
   "metadata": {},
   "outputs": [],
   "source": [
    "field = np.array([\n",
    " [-1, -1, -1, -1, -1, -1, -1, -1, -1, -1, -1, -1, -1, -1, -1, -1, -1],\n",
    " [-1,  0,  0,  0,  0,  1,  0,  0,  0,  0,  0,  0,  1,  0,  0,  0, -1],\n",
    " [-1,  0, -1,  0, -1,  0, -1,  1, -1,  0, -1,  0, -1,  0, -1,  0, -1],\n",
    " [-1,  0,  0,  0,  0,  0,  0,  0,  0,  0,  1,  0,  0,  0,  0,  0, -1],\n",
    " [-1,  0, -1,  1, -1,  0, -1,  0, -1,  0, -1,  0, -1,  0, -1,  0, -1],\n",
    " [-1,  0,  0,  0,  0,  0,  0,  0,  0,  0,  0,  0,  0,  0,  0,  0, -1],\n",
    " [-1,  0, -1,  0, -1,  0, -1,  0, -1,  1, -1,  0,  -1, 0, -1,  0, -1],\n",
    " [-1,  0,  0,  0,  0,  0,  0,  1,  1,  0,  0,  0,  0,  0,  0,  0, -1],\n",
    " [-1,  0, -1,  0, -1,  1, -1,  0, -1,  0, -1,  0, -1,  0, -1,  0, -1],\n",
    " [-1,  0,  0,  0,  0,  0,  0,  0,  0,  0,  0,  0,  0,  0,  0,  0, -1],\n",
    " [-1,  0, -1,  0, -1,  1, -1,  0, -1,  0, -1,  0, -1,  0, -1,  0, -1],\n",
    " [-1,  0,  0,  0,  0,  0,  0,  0,  0,  0,  0,  0,  0,  0,  0,  0, -1],\n",
    " [-1,  0, -1,  0, -1,  0, -1,  0, -1,  0, -1,  0, -1,  0, -1,  0, -1],\n",
    " [-1,  0,  0,  0,  0,  0,  0,  0,  0,  0,  0,  0,  0,  0,  1,  0, -1],\n",
    " [-1,  0, -1,  0, -1,  0, -1,  1, -1,  0, -1,  0, -1,  0, -1,  0, -1],\n",
    " [-1,  0,  0,  0,  0,  0,  0,  0,  0,  0,  0,  0,  0,  0,  0,  0, -1]])"
   ]
  },
  {
   "cell_type": "code",
   "execution_count": null,
   "metadata": {},
   "outputs": [],
   "source": [
    "agent_coord_x = 3\n",
    "agent_coord_y = 4"
   ]
  },
  {
   "cell_type": "code",
   "execution_count": 221,
   "metadata": {},
   "outputs": [
    {
     "data": {
      "text/plain": [
       "17"
      ]
     },
     "execution_count": 221,
     "metadata": {},
     "output_type": "execute_result"
    }
   ],
   "source": [
    "len(field[:][0])"
   ]
  },
  {
   "cell_type": "code",
   "execution_count": null,
   "metadata": {},
   "outputs": [
    {
     "data": {
      "text/plain": [
       "[(1, 5),\n",
       " (1, 12),\n",
       " (2, 7),\n",
       " (3, 10),\n",
       " (4, 3),\n",
       " (6, 9),\n",
       " (7, 7),\n",
       " (7, 8),\n",
       " (8, 5),\n",
       " (10, 5),\n",
       " (13, 14),\n",
       " (14, 7)]"
      ]
     },
     "execution_count": 10,
     "metadata": {},
     "output_type": "execute_result"
    }
   ],
   "source": [
    "#test coin locations\n",
    "\n",
    "agent_coord_x = 1\n",
    "agent_coord_y = 1\n",
    "\n",
    "#generate a 'crate_locations' list like the coin_locations\n",
    "x_vals = np.where(field == 1)[1]\n",
    "y_vals = np.where(field == 1)[0]\n",
    "crate_locations = [(x, y) for (x, y) in zip(y_vals, x_vals) if y is not None]\n",
    "\n",
    "crate_locations"
   ]
  },
  {
   "cell_type": "code",
   "execution_count": null,
   "metadata": {},
   "outputs": [],
   "source": []
  },
  {
   "cell_type": "code",
   "execution_count": null,
   "metadata": {},
   "outputs": [],
   "source": [
    "def is_bomb_dangerous(bomb, agent_coord_x, agent_coord_y):\n",
    "\n",
    "    if bomb[0] is not None:\n",
    "\n",
    "        #agent in y range of explosion\n",
    "        if abs(bomb[0][1] - agent_coord_y) <= 3 and abs(bomb[0][0] - agent_coord_x) == 0:\n",
    "            #no wall in between\n",
    "            if (agent_coord_x % 2) != 0 :\n",
    "                return True\n",
    "        \n",
    "        #agent in x range of explosion\n",
    "        if abs(bomb[0][0] - agent_coord_x) <= 3 and abs(bomb[0][1] - agent_coord_y) == 0:\n",
    "            #no wall in between\n",
    "            if (agent_coord_y % 2) != 0 :\n",
    "                return True\n",
    "\n",
    "        #agent directly on bomb\n",
    "        if abs(bomb[0][0] - agent_coord_x) == 0 and abs(bomb[0][1] - agent_coord_y) == 0:\n",
    "            return True       \n",
    "\n",
    "    return False"
   ]
  },
  {
   "cell_type": "code",
   "execution_count": 59,
   "metadata": {},
   "outputs": [],
   "source": [
    "bombs = []"
   ]
  },
  {
   "cell_type": "code",
   "execution_count": 61,
   "metadata": {},
   "outputs": [
    {
     "data": {
      "text/plain": [
       "[]"
      ]
     },
     "execution_count": 61,
     "metadata": {},
     "output_type": "execute_result"
    }
   ],
   "source": [
    "ggg = [is_bomb_dangerous(x, agent_coord_x, agent_coord_y) for x in bombs]\n",
    "ggg"
   ]
  },
  {
   "cell_type": "code",
   "execution_count": 53,
   "metadata": {},
   "outputs": [],
   "source": [
    "from itertools import compress"
   ]
  },
  {
   "cell_type": "code",
   "execution_count": 63,
   "metadata": {},
   "outputs": [
    {
     "data": {
      "text/plain": [
       "0"
      ]
     },
     "execution_count": 63,
     "metadata": {},
     "output_type": "execute_result"
    }
   ],
   "source": [
    "len(list(compress(bombs, ggg)))\n"
   ]
  },
  {
   "cell_type": "code",
   "execution_count": 57,
   "metadata": {},
   "outputs": [
    {
     "data": {
      "text/plain": [
       "[(3, 2), (1, 5), (4, 3), (5, 4), (1, 1)]"
      ]
     },
     "execution_count": 57,
     "metadata": {},
     "output_type": "execute_result"
    }
   ],
   "source": [
    "bomb_locations = [item[0] for item in bombs]\n",
    "bomb_locations"
   ]
  },
  {
   "cell_type": "code",
   "execution_count": null,
   "metadata": {},
   "outputs": [],
   "source": [
    "((1,5),2),  \n",
    ", ((1,1),3)"
   ]
  },
  {
   "cell_type": "code",
   "execution_count": 140,
   "metadata": {},
   "outputs": [
    {
     "data": {
      "text/plain": [
       "[((3, 2), 2), ((1, 5), 2), ((4, 3), 3), ((5, 4), 3), ((1, 1), 3), ((1, 4), 3)]"
      ]
     },
     "execution_count": 140,
     "metadata": {},
     "output_type": "execute_result"
    }
   ],
   "source": [
    "bombs = [((3,2),2), ((1,5),2), ((4,3),3), ((5,4),3), ((1,1),3), ((1,4),3)]\n",
    "bombs"
   ]
  },
  {
   "cell_type": "code",
   "execution_count": 141,
   "metadata": {},
   "outputs": [
    {
     "data": {
      "text/plain": [
       "[[((1, 1), 3), ((1, 4), 3)], 2]"
      ]
     },
     "execution_count": 141,
     "metadata": {},
     "output_type": "execute_result"
    }
   ],
   "source": [
    "#test closest bombs\n",
    "\n",
    "agent_coord_x = 1\n",
    "agent_coord_y = 2\n",
    "\n",
    "#generate a 'bomb_infos' list similar to the coin_locations, but like:  [((x,y),t), ((x,y),t), ((x,y),t)]\n",
    "bomb_infos = bombs\n",
    "\n",
    "#only keep bombs for which agent is in explosion range\n",
    "filter_criteria = [is_bomb_dangerous(x, agent_coord_x, agent_coord_y) for x in bombs]\n",
    "bomb_infos = list(compress(bomb_infos, filter_criteria))\n",
    "\n",
    "closest_bomb1 = (None, 0)\n",
    "closest_bomb2 = (None, 0)\n",
    "closest_bomb3 = (None, 0)\n",
    "closest_dist = 100\n",
    "\n",
    "# find the 3 closest bombs\n",
    "if len(bomb_infos) != 0:\n",
    "    \n",
    "    bomb_infos_sorted = sorted( bomb_infos, key = lambda coord: np.linalg.norm([coord[0][0] - agent_coord_x, coord[0][1] - agent_coord_y] ) )\n",
    "\n",
    "    if len(bomb_infos) == 1:\n",
    "        closest_bomb1 = bomb_infos_sorted[0]\n",
    "    \n",
    "    if len(bomb_infos) == 2:\n",
    "        closest_bomb1 = bomb_infos_sorted[0]\n",
    "        closest_bomb2 = bomb_infos_sorted[1]\n",
    "\n",
    "    if len(bomb_infos) > 2:\n",
    "        closest_bomb1 = bomb_infos_sorted[0]\n",
    "        closest_bomb2 = bomb_infos_sorted[1]\n",
    "        closest_bomb3 = bomb_infos_sorted[2]\n",
    "\n",
    "closest_bombs = [closest_bomb1, closest_bomb2, closest_bomb3]\n",
    "\n",
    "\n",
    "#check for which of these bombs the agent is in explosion range\n",
    "number_of_dangerous_bombs = 0\n",
    "\n",
    "if closest_bombs[0][0] is not None:\n",
    "    if is_bomb_dangerous(closest_bombs[0], agent_coord_x, agent_coord_y):\n",
    "        number_of_dangerous_bombs += 1\n",
    "    else:\n",
    "        closest_bomb1 = (None, 0)\n",
    "\n",
    "if closest_bombs[1][0] is not None:\n",
    "    if is_bomb_dangerous(closest_bombs[1], agent_coord_x, agent_coord_y):\n",
    "        number_of_dangerous_bombs += 1\n",
    "    else:\n",
    "        closest_bomb2 = (None, 0)\n",
    "\n",
    "if closest_bombs[2][0] is not None:\n",
    "    if is_bomb_dangerous(closest_bombs[2], agent_coord_x, agent_coord_y):\n",
    "        number_of_dangerous_bombs += 1\n",
    "    else:\n",
    "        closest_bomb3 = (None, 0)\n",
    "\n",
    "#define with new 'None' entries\n",
    "dangerous_bombs = [closest_bomb1, closest_bomb2, closest_bomb3]\n",
    "\n",
    "\n",
    "#only using the 2 closest bombs (delete if you want to implement 3 bomb behavior)\n",
    "dangerous_bombs = [closest_bomb1, closest_bomb2]\n",
    "if number_of_dangerous_bombs == 3:\n",
    "    number_of_dangerous_bombs = 2\n",
    "\n",
    "[dangerous_bombs, number_of_dangerous_bombs]"
   ]
  },
  {
   "cell_type": "code",
   "execution_count": 143,
   "metadata": {},
   "outputs": [],
   "source": [
    "bomben_ding = [dangerous_bombs, number_of_dangerous_bombs]"
   ]
  },
  {
   "cell_type": "code",
   "execution_count": 95,
   "metadata": {},
   "outputs": [
    {
     "data": {
      "text/plain": [
       "[[((1, 5), 2), (None, 0)], 1]"
      ]
     },
     "execution_count": 95,
     "metadata": {},
     "output_type": "execute_result"
    }
   ],
   "source": [
    "[[((1, 5), 2), (None, 0)], 1]"
   ]
  },
  {
   "cell_type": "code",
   "execution_count": 101,
   "metadata": {},
   "outputs": [
    {
     "data": {
      "text/plain": [
       "[[((1, 1), 3), ((1, 4), 3)], 2]"
      ]
     },
     "execution_count": 101,
     "metadata": {},
     "output_type": "execute_result"
    }
   ],
   "source": [
    "[[((1, 1), 3), ((1, 4), 3)], 2]"
   ]
  },
  {
   "cell_type": "code",
   "execution_count": 98,
   "metadata": {},
   "outputs": [
    {
     "data": {
      "text/plain": [
       "[[(None, 0), (None, 0)], 0]"
      ]
     },
     "execution_count": 98,
     "metadata": {},
     "output_type": "execute_result"
    }
   ],
   "source": [
    "[[(None, 0), (None, 0)], 0]"
   ]
  },
  {
   "cell_type": "code",
   "execution_count": 136,
   "metadata": {},
   "outputs": [],
   "source": [
    "#closest crate:\n",
    "closest_crate = [2,4]\n",
    "#or = None\n",
    "\n",
    "#dangerous_bombs_and_number_of_dangerous_bombs\n",
    "dangerous_bombs_and_number_of_dangerous_bombs = [[((1, 1), 3), ((1, 4), 3)], 2]"
   ]
  },
  {
   "cell_type": "code",
   "execution_count": 137,
   "metadata": {},
   "outputs": [
    {
     "name": "stdout",
     "output_type": "stream",
     "text": [
      "2\n",
      "1\n",
      "1\n",
      "1\n",
      "4\n"
     ]
    }
   ],
   "source": [
    "dangerous_bombs = [item[0] for item in dangerous_bombs_and_number_of_dangerous_bombs[0]] \n",
    "number_of_dangerous_bombs = dangerous_bombs_and_number_of_dangerous_bombs[1]\n",
    "print(number_of_dangerous_bombs)\n",
    "\n",
    "bomb_index = [i for i in range(len(dangerous_bombs)) if dangerous_bombs[i] != None]\n",
    "bomb_coord1 = dangerous_bombs[ bomb_index[0] ]\n",
    "bomb_coord2 = dangerous_bombs[ bomb_index[1] ]\n",
    "\n",
    "x1 = bomb_coord1[0]\n",
    "y1 = bomb_coord1[1]\n",
    "\n",
    "x2 = bomb_coord2[0]\n",
    "y2 = bomb_coord2[1]\n",
    "\n",
    "print(x1)\n",
    "print(y1)\n",
    "\n",
    "print(x2)\n",
    "print(y2)"
   ]
  },
  {
   "cell_type": "code",
   "execution_count": null,
   "metadata": {},
   "outputs": [],
   "source": []
  },
  {
   "cell_type": "code",
   "execution_count": null,
   "metadata": {},
   "outputs": [],
   "source": []
  },
  {
   "cell_type": "code",
   "execution_count": null,
   "metadata": {},
   "outputs": [],
   "source": []
  },
  {
   "cell_type": "code",
   "execution_count": null,
   "metadata": {},
   "outputs": [],
   "source": []
  },
  {
   "cell_type": "code",
   "execution_count": null,
   "metadata": {},
   "outputs": [],
   "source": []
  },
  {
   "cell_type": "code",
   "execution_count": null,
   "metadata": {},
   "outputs": [],
   "source": []
  },
  {
   "cell_type": "code",
   "execution_count": null,
   "metadata": {},
   "outputs": [],
   "source": []
  },
  {
   "cell_type": "code",
   "execution_count": null,
   "metadata": {},
   "outputs": [],
   "source": [
    "#if there is no way to move away from one bomb without getting closer to the other, we have the following situation:\n",
    "        \"\"\"\n",
    "        W_W_W_W_W_W_W\n",
    "        ___B__x__B___\n",
    "        W_W_W_W_W_W_W\n",
    "\n",
    "        \"\"\"\n",
    "        #sketched case\n",
    "        if abs(y1 - agent_coord_y) == 0 and abs(y2 - agent_coord_y) == 0:\n",
    "            if action == 'RIGHT':\n",
    "                #only go right if you dont run directly on the field where a bomb is\n",
    "                if abs(x1 - (agent_coord_x + 1)) != 0 and abs(x2 - (agent_coord_x + 1)) != 0 and ( game_state['field'][agent_coord_y][agent_coord_x+1] == 0 ):\n",
    "                    #avoid crate trap\n",
    "                    if crate_in_expl_range:\n",
    "                        if abs(crate_x - (agent_coord_x + 1)) and abs(crate_y - agent_coord_y) == 0 and ( game_state['field'][agent_coord_y+1][agent_coord_x+1] != 0 ) and ( game_state['field'][agent_coord_y-1][agent_coord_x+1] != 0 ):\n",
    "                            return 0\n",
    "                    return 1\n",
    "            if action == 'LEFT':\n",
    "                if abs(x1 - (agent_coord_x - 1)) != 0 and abs(x2 - (agent_coord_x - 1)) != 0 and  ( game_state['field'][agent_coord_y][agent_coord_x-1] == 0 ):\n",
    "                    #avoid crate trap\n",
    "                    if crate_in_expl_range:\n",
    "                        if abs(crate_x - (agent_coord_x - 1)) and abs(crate_y - agent_coord_y) == 0 and ( game_state['field'][agent_coord_y+1][agent_coord_x-1] != 0 ) and ( game_state['field'][agent_coord_y-1][agent_coord_x-1] != 0 ):\n",
    "                            return 0\n",
    "                    return 1\n",
    "\n",
    "        #90 degree rotated case\n",
    "        if abs(x1 - agent_coord_x) == 0 and abs(x2 - agent_coord_x) == 0:\n",
    "            if action == 'UP':\n",
    "                if abs(y1 - (agent_coord_y - 1)) != 0 and abs(y2 - (agent_coord_y - 1)) != 0 and ( game_state['field'][agent_coord_y-1][agent_coord_x] == 0 ):\n",
    "                    #avoid crate trap\n",
    "                    if crate_in_expl_range:\n",
    "                        if abs(crate_y - (agent_coord_y - 1)) and abs(crate_x - agent_coord_x) == 0 and ( game_state['field'][agent_coord_y-1][agent_coord_x-1] != 0 ) and ( game_state['field'][agent_coord_y-1][agent_coord_x+1] != 0 ):\n",
    "                            return 0\n",
    "                    return 1\n",
    "            if action == 'DOWN':\n",
    "                if abs(y1 - (agent_coord_y + 1)) != 0 and abs(y2 - (agent_coord_y + 1)) != 0 and ( game_state['field'][agent_coord_y+1][agent_coord_x] == 0 ):\n",
    "                    #avoid crate trap\n",
    "                    if crate_in_expl_range:\n",
    "                        if abs(crate_y - (agent_coord_y + 1)) and abs(crate_x - agent_coord_x) == 0 and ( game_state['field'][agent_coord_y+1][agent_coord_x-1] != 0 ) and ( game_state['field'][agent_coord_y+1][agent_coord_x+1] != 0 ):\n",
    "                            return 0\n",
    "                    return 1"
   ]
  },
  {
   "cell_type": "code",
   "execution_count": null,
   "metadata": {},
   "outputs": [],
   "source": []
  },
  {
   "cell_type": "code",
   "execution_count": null,
   "metadata": {},
   "outputs": [],
   "source": []
  },
  {
   "cell_type": "code",
   "execution_count": null,
   "metadata": {},
   "outputs": [],
   "source": []
  },
  {
   "cell_type": "code",
   "execution_count": null,
   "metadata": {},
   "outputs": [],
   "source": []
  },
  {
   "cell_type": "code",
   "execution_count": null,
   "metadata": {},
   "outputs": [],
   "source": []
  },
  {
   "cell_type": "code",
   "execution_count": null,
   "metadata": {},
   "outputs": [],
   "source": []
  },
  {
   "cell_type": "code",
   "execution_count": 138,
   "metadata": {},
   "outputs": [],
   "source": [
    "def goes_towards_crate_trap(dangerous_bombs_and_number_of_dangerous_bombs, game_state, action, self):\n",
    "\n",
    "    dangerous_bombs = [item[0] for item in dangerous_bombs_and_number_of_dangerous_bombs[0]] \n",
    "    number_of_dangerous_bombs = dangerous_bombs_and_number_of_dangerous_bombs[1]\n",
    "\n",
    "    agent_coord_x = game_state['self'][3][0]\n",
    "    agent_coord_y = game_state['self'][3][1]\n",
    "\n",
    "\n",
    "\n",
    "\n",
    "    #case 1:  one bomb-------------------------------------------------------\n",
    "    if number_of_dangerous_bombs == 1:\n",
    "\n",
    "        #get the bomb which is not 'None'\n",
    "        bomb_coord = dangerous_bombs[ [i for i in range(len(dangerous_bombs)) if dangerous_bombs[i] != None][0] ]\n",
    "\n",
    "        bomb_coord_x = bomb_coord[0]\n",
    "        bomb_coord_y = bomb_coord[1]\n",
    "\n",
    "        x, y = bomb_coord_x, bomb_coord_y \n",
    "\n",
    "\n",
    "        # the next direction to be farther from the bomb\n",
    "        if action == 'UP':\n",
    "            if abs(y - (agent_coord_y - 1)) > abs(y - agent_coord_y) and ( game_state['field'][agent_coord_x][agent_coord_y-1] == 0 ):\n",
    "                #avoid crate trap\n",
    "                \"\"\"\n",
    "                ____W_\n",
    "                _B__xC  (moved right in this case)\n",
    "                ____W_\n",
    "                \"\"\"\n",
    "                #if agent moved to free lane crate problem cant occure\n",
    "                if ((agent_coord_y - 1) % 2) != 0:\n",
    "                    return 0\n",
    "                #if moved to |_|_|x|_|_| lane, check if agent would be trapped by crate above\n",
    "                else:\n",
    "                    if game_state['field'][agent_coord_x][agent_coord_y-2] != 0:\n",
    "                        return 1\n",
    "\n",
    "                return 0\n",
    "\n",
    "        if action == 'RIGHT':\n",
    "            if abs(x - (agent_coord_x + 1)) > abs(x - agent_coord_x) and ( game_state['field'][agent_coord_x+1][agent_coord_y] == 0 ):\n",
    "                if ((agent_coord_x + 1) % 2) != 0:\n",
    "                    return 0\n",
    "                else:\n",
    "                    if game_state['field'][agent_coord_x+2][agent_coord_y] != 0:\n",
    "                        return 1\n",
    "                        \n",
    "                return 0\n",
    "\n",
    "        if action == 'DOWN':\n",
    "            if abs(y - (agent_coord_y + 1)) > abs(y - agent_coord_y) and ( game_state['field'][agent_coord_x][agent_coord_y+1] == 0 ):\n",
    "                if ((agent_coord_y + 1) % 2) != 0:\n",
    "                    return 0\n",
    "                else:\n",
    "                    if game_state['field'][agent_coord_x][agent_coord_y+2] != 0:\n",
    "                        return 1\n",
    "                        \n",
    "                return 0\n",
    "\n",
    "        if action == 'LEFT':\n",
    "            if abs(x - (agent_coord_x - 1)) > abs(x - agent_coord_x) and ( game_state['field'][agent_coord_x-1][agent_coord_y] == 0 ):\n",
    "                if ((agent_coord_x - 1) % 2) != 0:\n",
    "                    return 0\n",
    "                else:\n",
    "                    if game_state['field'][agent_coord_x-2][agent_coord_y] != 0:\n",
    "                        return 1\n",
    "                        \n",
    "                return 0\n",
    "\n",
    "\n",
    "\n",
    "\n",
    "    #case 2:  two bombs-------------------------------------------------------\n",
    "    if number_of_dangerous_bombs == 2:\n",
    "\n",
    "        #get the bombs which are not 'None'\n",
    "        bomb_index = [i for i in range(len(dangerous_bombs)) if dangerous_bombs[i] != None]\n",
    "        bomb_coord1 = dangerous_bombs[ bomb_index[0] ]\n",
    "        bomb_coord2 = dangerous_bombs[ bomb_index[1] ]\n",
    "\n",
    "        x1 = bomb_coord1[0]\n",
    "        y1 = bomb_coord1[1]\n",
    "\n",
    "        x2 = bomb_coord2[0]\n",
    "        y2 = bomb_coord2[1]\n",
    "\n",
    "\n",
    "        # the next direction to be farther from both bombs\n",
    "        if action == 'UP':\n",
    "\n",
    "            #if agent IS in free lane \n",
    "            if ((agent_coord_y) % 2) != 0:\n",
    "\n",
    "                #1st: gets farther from at least ONE bomb,  2nd: doesnt get closer to other bomb\n",
    "                #gets away from bomb 1\n",
    "                if abs(y1 - (agent_coord_y - 1)) > abs(y1 - agent_coord_y) and ( game_state['field'][agent_coord_x][agent_coord_y-1] == 0 ):\n",
    "                    #doesnt get closer to bomb2\n",
    "                    if abs(y2 - (agent_coord_y - 1)) >= abs(y2 - agent_coord_y):\n",
    "                        #avoid crate trap\n",
    "                        \"\"\"\n",
    "                        ____W_\n",
    "                        _B__xC  (moved right in this case)\n",
    "                        ____W_\n",
    "                        \"\"\"\n",
    "                        #if agent MOVED to free lane (cannot be true if he already was in free lane and moved)\n",
    "                        if ((agent_coord_y - 1) % 2) != 0:\n",
    "                            return 0\n",
    "                        #if moved to |_|_|x|_|_| lane, check if agent would be trapped by crate above\n",
    "                        else:\n",
    "                            if game_state['field'][agent_coord_x][agent_coord_y-2] != 0:\n",
    "                                return 1\n",
    "\n",
    "                        return 0\n",
    "                    \n",
    "\n",
    "                #gets away from bomb 2\n",
    "                if abs(y2 - (agent_coord_y - 1)) > abs(y2 - agent_coord_y) and ( game_state['field'][agent_coord_x][agent_coord_y-1] == 0 ):\n",
    "                    #doesnt get closer to bomb1\n",
    "                    if abs(y1 - (agent_coord_y - 1)) >= abs(y1 - agent_coord_y):\n",
    "                        #avoid crate trap\n",
    "                        \"\"\"\n",
    "                        ____W_\n",
    "                        _B__xC  (moved right in this case)\n",
    "                        ____W_\n",
    "                        \"\"\"\n",
    "                        #if agent MOVED to free lane (cannot be true if he already was in free lane and moved)\n",
    "                        if ((agent_coord_y - 1) % 2) != 0:\n",
    "                            return 0\n",
    "                        #if moved to |_|_|x|_|_| lane, check if agent would be trapped by crate above\n",
    "                        else:\n",
    "                            if game_state['field'][agent_coord_x][agent_coord_y-2] != 0:\n",
    "                                return 1\n",
    "\n",
    "                        return 0\n",
    "\n",
    "\n",
    "            #if agent IS in problem lane  |_|_|x|_|_| -------> there CANT be a crate trap!!!\n",
    "            if ((agent_coord_y) % 2) == 0:\n",
    "                return 0\n",
    "\n",
    "\n",
    "\n",
    "\n",
    "        if action == 'RIGHT':\n",
    "\n",
    "            if ((agent_coord_x) % 2) != 0:\n",
    "\n",
    "                if abs(x1 - (agent_coord_x + 1)) > abs(x1 - agent_coord_x) and ( game_state['field'][agent_coord_x+1][agent_coord_y] == 0 ):\n",
    "                    if abs(x2 - (agent_coord_x + 1)) >= abs(x2 - agent_coord_x):\n",
    "                        if ((agent_coord_x + 1) % 2) != 0:\n",
    "                            return 0\n",
    "                        else:\n",
    "                            if game_state['field'][agent_coord_x+2][agent_coord_y] != 0:\n",
    "                                return 1\n",
    "\n",
    "                        return 0\n",
    "                    \n",
    "\n",
    "                if abs(x2 - (agent_coord_x + 1)) > abs(x2 - agent_coord_x) and ( game_state['field'][agent_coord_x+1][agent_coord_y] == 0 ):\n",
    "                    if abs(x1 - (agent_coord_x + 1)) >= abs(x1 - agent_coord_x):\n",
    "                        if ((agent_coord_x + 1) % 2) != 0:\n",
    "                            return 0\n",
    "                        else:\n",
    "                            if game_state['field'][agent_coord_x+2][agent_coord_y] != 0:\n",
    "                                return 1\n",
    "\n",
    "                        return 0\n",
    "\n",
    "\n",
    "            if ((agent_coord_x) % 2) == 0:\n",
    "                return 0\n",
    "\n",
    "\n",
    "\n",
    "\n",
    "        if action == 'DOWN':\n",
    "\n",
    "            if ((agent_coord_y) % 2) != 0:\n",
    "\n",
    "                if abs(y1 - (agent_coord_y + 1)) > abs(y1 - agent_coord_y) and ( game_state['field'][agent_coord_x][agent_coord_y+1] == 0 ):\n",
    "                    if abs(y2 - (agent_coord_y + 1)) >= abs(y2 - agent_coord_y):\n",
    "                        if ((agent_coord_y + 1) % 2) != 0:\n",
    "                            return 0\n",
    "                        else:\n",
    "                            if game_state['field'][agent_coord_x][agent_coord_y+2] != 0:\n",
    "                                return 1\n",
    "\n",
    "                        return 0\n",
    "                    \n",
    "\n",
    "                if abs(y2 - (agent_coord_y + 1)) > abs(y2 - agent_coord_y) and ( game_state['field'][agent_coord_x][agent_coord_y+1] == 0 ):\n",
    "                    if abs(y1 - (agent_coord_y + 1)) >= abs(y1 - agent_coord_y):\n",
    "                        if ((agent_coord_y + 1) % 2) != 0:\n",
    "                            return 0\n",
    "                        else:\n",
    "                            if game_state['field'][agent_coord_x][agent_coord_y+2] != 0:\n",
    "                                return 1\n",
    "\n",
    "                        return 0\n",
    "\n",
    "\n",
    "            if ((agent_coord_y) % 2) == 0:\n",
    "                return 0\n",
    "\n",
    "\n",
    "\n",
    "\n",
    "\n",
    "        if action == 'LEFT':\n",
    "\n",
    "            if ((agent_coord_x) % 2) != 0:\n",
    "\n",
    "                if abs(x1 - (agent_coord_x - 1)) > abs(x1 - agent_coord_x) and ( game_state['field'][agent_coord_x-1][agent_coord_y] == 0 ):\n",
    "                    if abs(x2 - (agent_coord_x - 1)) >= abs(x2 - agent_coord_x):\n",
    "                        if ((agent_coord_x - 1) % 2) != 0:\n",
    "                            return 0\n",
    "                        else:\n",
    "                            if game_state['field'][agent_coord_x-2][agent_coord_y] != 0:\n",
    "                                return 1\n",
    "\n",
    "                        return 0\n",
    "                    \n",
    "\n",
    "                if abs(x2 - (agent_coord_x - 1)) > abs(x2 - agent_coord_x) and ( game_state['field'][agent_coord_x-1][agent_coord_y] == 0 ):\n",
    "                    if abs(x1 - (agent_coord_x - 1)) >= abs(x1 - agent_coord_x):\n",
    "                        if ((agent_coord_x - 1) % 2) != 0:\n",
    "                            return 0\n",
    "                        else:\n",
    "                            if game_state['field'][agent_coord_x-2][agent_coord_y] != 0:\n",
    "                                return 1\n",
    "\n",
    "                        return 0\n",
    "\n",
    "\n",
    "            if ((agent_coord_x) % 2) == 0:\n",
    "                return 0\n",
    "\n",
    "\n",
    "\n",
    "    #case 3:  three bombs (hell no, I aint gonna do this ... good luck)---------------------------------------\n",
    "\n",
    "\n",
    "\n",
    "    return 0"
   ]
  },
  {
   "cell_type": "code",
   "execution_count": null,
   "metadata": {},
   "outputs": [],
   "source": []
  },
  {
   "cell_type": "code",
   "execution_count": null,
   "metadata": {},
   "outputs": [],
   "source": []
  },
  {
   "cell_type": "code",
   "execution_count": null,
   "metadata": {},
   "outputs": [],
   "source": []
  },
  {
   "cell_type": "code",
   "execution_count": null,
   "metadata": {},
   "outputs": [],
   "source": []
  },
  {
   "cell_type": "code",
   "execution_count": null,
   "metadata": {},
   "outputs": [],
   "source": []
  },
  {
   "cell_type": "code",
   "execution_count": null,
   "metadata": {},
   "outputs": [],
   "source": [
    "def get_away_from_bomb(dangerous_bombs_and_number_of_dangerous_bombs, game_state, action, self):\n",
    "\n",
    "    dangerous_bombs = [item[0] for item in dangerous_bombs_and_number_of_dangerous_bombs[0]] \n",
    "    number_of_dangerous_bombs = dangerous_bombs_and_number_of_dangerous_bombs[1]\n",
    "\n",
    "    agent_coord_x = game_state['self'][3][0]\n",
    "    agent_coord_y = game_state['self'][3][1]\n",
    "\n",
    "\n",
    "\n",
    "\n",
    "    #case 1:  one bomb-------------------------------------------------------\n",
    "    if number_of_dangerous_bombs == 1:\n",
    "\n",
    "        #get the bomb which is not 'None'\n",
    "        bomb_coord = dangerous_bombs[ [i for i in range(len(dangerous_bombs)) if dangerous_bombs[i] != None][0] ]\n",
    "\n",
    "        bomb_coord_x = bomb_coord[0]\n",
    "        bomb_coord_y = bomb_coord[1]\n",
    "\n",
    "        x, y = bomb_coord_x, bomb_coord_y \n",
    "\n",
    "\n",
    "        # the next direction to be farther from the bomb\n",
    "        if action == 'UP':\n",
    "            if abs(y - (agent_coord_y - 1)) > abs(y - agent_coord_y) and ( game_state['field'][agent_coord_x][agent_coord_y-1] == 0 ):\n",
    "                #avoid crate trap\n",
    "                \"\"\"\n",
    "                ____W_\n",
    "                _B__xC  (moved right in this case)\n",
    "                ____W_\n",
    "                \"\"\"\n",
    "                #if agent moved to free lane crate problem cant occure\n",
    "                if ((agent_coord_y - 1) % 2) != 0:\n",
    "                    return 1\n",
    "                #if moved to |_|_|x|_|_| lane, check if agent would be trapped by crate above\n",
    "                else:\n",
    "                    if game_state['field'][agent_coord_x][agent_coord_y-2] != 0:\n",
    "                        return 0\n",
    "\n",
    "                return 1\n",
    "\n",
    "        if action == 'RIGHT':\n",
    "            if abs(x - (agent_coord_x + 1)) > abs(x - agent_coord_x) and ( game_state['field'][agent_coord_x+1][agent_coord_y] == 0 ):\n",
    "                if ((agent_coord_x + 1) % 2) != 0:\n",
    "                    return 1\n",
    "                else:\n",
    "                    if game_state['field'][agent_coord_x+2][agent_coord_y] != 0:\n",
    "                        return 0\n",
    "                        \n",
    "                return 1\n",
    "\n",
    "        if action == 'DOWN':\n",
    "            if abs(y - (agent_coord_y + 1)) > abs(y - agent_coord_y) and ( game_state['field'][agent_coord_x][agent_coord_y+1] == 0 ):\n",
    "                if ((agent_coord_y + 1) % 2) != 0:\n",
    "                    return 1\n",
    "                else:\n",
    "                    if game_state['field'][agent_coord_x][agent_coord_y+2] != 0:\n",
    "                        return 0\n",
    "                        \n",
    "                return 1\n",
    "\n",
    "        if action == 'LEFT':\n",
    "            if abs(x - (agent_coord_x - 1)) > abs(x - agent_coord_x) and ( game_state['field'][agent_coord_x-1][agent_coord_y] == 0 ):\n",
    "                if ((agent_coord_x - 1) % 2) != 0:\n",
    "                    return 1\n",
    "                else:\n",
    "                    if game_state['field'][agent_coord_x-2][agent_coord_y] != 0:\n",
    "                        return 0\n",
    "                        \n",
    "                return 1\n",
    "\n",
    "\n",
    "\n",
    "\n",
    "    #case 2:  two bombs-------------------------------------------------------\n",
    "    if number_of_dangerous_bombs == 2:\n",
    "\n",
    "        #get the bombs which are not 'None'\n",
    "        bomb_index = [i for i in range(len(dangerous_bombs)) if dangerous_bombs[i] != None]\n",
    "        bomb_coord1 = dangerous_bombs[ bomb_index[0] ]\n",
    "        bomb_coord2 = dangerous_bombs[ bomb_index[1] ]\n",
    "\n",
    "        x1 = bomb_coord1[0]\n",
    "        y1 = bomb_coord1[1]\n",
    "\n",
    "        x2 = bomb_coord2[0]\n",
    "        y2 = bomb_coord2[1]\n",
    "\n",
    "\n",
    "        # the next direction to be farther from both bombs\n",
    "        if action == 'UP':\n",
    "\n",
    "            #if agent IS in free lane \n",
    "            if ((agent_coord_y) % 2) != 0:\n",
    "\n",
    "                #1st: gets farther from at least ONE bomb,  2nd: doesnt get closer to other bomb\n",
    "                #gets away from bomb 1\n",
    "                if abs(y1 - (agent_coord_y - 1)) > abs(y1 - agent_coord_y) and ( game_state['field'][agent_coord_x][agent_coord_y-1] == 0 ):\n",
    "                    #doesnt get closer to bomb2\n",
    "                    if abs(y2 - (agent_coord_y - 1)) >= abs(y2 - agent_coord_y):\n",
    "                        #avoid crate trap\n",
    "                        \"\"\"\n",
    "                        ____W_\n",
    "                        _B__xC  (moved right in this case)\n",
    "                        ____W_\n",
    "                        \"\"\"\n",
    "                        #if agent MOVED to free lane (cannot be true if he already was in free lane and moved)\n",
    "                        if ((agent_coord_y - 1) % 2) != 0:\n",
    "                            return 1\n",
    "                        #if moved to |_|_|x|_|_| lane, check if agent would be trapped by crate above\n",
    "                        else:\n",
    "                            if game_state['field'][agent_coord_x][agent_coord_y-2] != 0:\n",
    "                                return 0\n",
    "\n",
    "                        return 1\n",
    "                    \n",
    "\n",
    "                #gets away from bomb 2\n",
    "                if abs(y2 - (agent_coord_y - 1)) > abs(y2 - agent_coord_y) and ( game_state['field'][agent_coord_x][agent_coord_y-1] == 0 ):\n",
    "                    #doesnt get closer to bomb1\n",
    "                    if abs(y1 - (agent_coord_y - 1)) >= abs(y1 - agent_coord_y):\n",
    "                        #avoid crate trap\n",
    "                        \"\"\"\n",
    "                        ____W_\n",
    "                        _B__xC  (moved right in this case)\n",
    "                        ____W_\n",
    "                        \"\"\"\n",
    "                        #if agent MOVED to free lane (cannot be true if he already was in free lane and moved)\n",
    "                        if ((agent_coord_y - 1) % 2) != 0:\n",
    "                            return 1\n",
    "                        #if moved to |_|_|x|_|_| lane, check if agent would be trapped by crate above\n",
    "                        else:\n",
    "                            if game_state['field'][agent_coord_x][agent_coord_y-2] != 0:\n",
    "                                return 0\n",
    "\n",
    "                        return 1\n",
    "\n",
    "\n",
    "            #if agent IS in problem lane  |_|_|x|_|_|\n",
    "            if ((agent_coord_y) % 2) == 0:\n",
    "                #if both bombs are above agent return 0, else return 1\n",
    "                if y1 <= agent_coord_y and y2 <= agent_coord_y:\n",
    "                    return 0\n",
    "                else:\n",
    "                    return 1\n",
    "\n",
    "\n",
    "\n",
    "\n",
    "        if action == 'RIGHT':\n",
    "\n",
    "            if ((agent_coord_x) % 2) != 0:\n",
    "\n",
    "                if abs(x1 - (agent_coord_x + 1)) > abs(x1 - agent_coord_x) and ( game_state['field'][agent_coord_x+1][agent_coord_y] == 0 ):\n",
    "                    if abs(x2 - (agent_coord_x + 1)) >= abs(x2 - agent_coord_x):\n",
    "                        if ((agent_coord_x + 1) % 2) != 0:\n",
    "                            return 1\n",
    "                        else:\n",
    "                            if game_state['field'][agent_coord_x+2][agent_coord_y] != 0:\n",
    "                                return 0\n",
    "\n",
    "                        return 1\n",
    "                    \n",
    "\n",
    "                if abs(x2 - (agent_coord_x + 1)) > abs(x2 - agent_coord_x) and ( game_state['field'][agent_coord_x+1][agent_coord_y] == 0 ):\n",
    "                    if abs(x1 - (agent_coord_x + 1)) >= abs(x1 - agent_coord_x):\n",
    "                        if ((agent_coord_x + 1) % 2) != 0:\n",
    "                            return 1\n",
    "                        else:\n",
    "                            if game_state['field'][agent_coord_x+2][agent_coord_y] != 0:\n",
    "                                return 0\n",
    "\n",
    "                        return 1\n",
    "\n",
    "\n",
    "            if ((agent_coord_x) % 2) == 0:\n",
    "                if x1 >= agent_coord_x and x2 >= agent_coord_x:\n",
    "                    return 0\n",
    "                else:\n",
    "                    return 1\n",
    "\n",
    "\n",
    "\n",
    "\n",
    "        if action == 'DOWN':\n",
    "\n",
    "            if ((agent_coord_y) % 2) != 0:\n",
    "\n",
    "                if abs(y1 - (agent_coord_y + 1)) > abs(y1 - agent_coord_y) and ( game_state['field'][agent_coord_x][agent_coord_y+1] == 0 ):\n",
    "                    if abs(y2 - (agent_coord_y + 1)) >= abs(y2 - agent_coord_y):\n",
    "                        if ((agent_coord_y + 1) % 2) != 0:\n",
    "                            return 1\n",
    "                        else:\n",
    "                            if game_state['field'][agent_coord_x][agent_coord_y+2] != 0:\n",
    "                                return 0\n",
    "\n",
    "                        return 1\n",
    "                    \n",
    "\n",
    "                if abs(y2 - (agent_coord_y + 1)) > abs(y2 - agent_coord_y) and ( game_state['field'][agent_coord_x][agent_coord_y+1] == 0 ):\n",
    "                    if abs(y1 - (agent_coord_y + 1)) >= abs(y1 - agent_coord_y):\n",
    "                        if ((agent_coord_y + 1) % 2) != 0:\n",
    "                            return 1\n",
    "                        else:\n",
    "                            if game_state['field'][agent_coord_x][agent_coord_y+2] != 0:\n",
    "                                return 0\n",
    "\n",
    "                        return 1\n",
    "\n",
    "\n",
    "            if ((agent_coord_y) % 2) == 0:\n",
    "                if y1 >= agent_coord_y and y2 >= agent_coord_y:\n",
    "                    return 0\n",
    "                else:\n",
    "                    return 1\n",
    "\n",
    "\n",
    "\n",
    "\n",
    "\n",
    "        if action == 'LEFT':\n",
    "\n",
    "            if ((agent_coord_x) % 2) != 0:\n",
    "\n",
    "                if abs(x1 - (agent_coord_x - 1)) > abs(x1 - agent_coord_x) and ( game_state['field'][agent_coord_x-1][agent_coord_y] == 0 ):\n",
    "                    if abs(x2 - (agent_coord_x - 1)) >= abs(x2 - agent_coord_x):\n",
    "                        if ((agent_coord_x - 1) % 2) != 0:\n",
    "                            return 1\n",
    "                        else:\n",
    "                            if game_state['field'][agent_coord_x-2][agent_coord_y] != 0:\n",
    "                                return 0\n",
    "\n",
    "                        return 1\n",
    "                    \n",
    "\n",
    "                if abs(x2 - (agent_coord_x - 1)) > abs(x2 - agent_coord_x) and ( game_state['field'][agent_coord_x-1][agent_coord_y] == 0 ):\n",
    "                    if abs(x1 - (agent_coord_x - 1)) >= abs(x1 - agent_coord_x):\n",
    "                        if ((agent_coord_x - 1) % 2) != 0:\n",
    "                            return 1\n",
    "                        else:\n",
    "                            if game_state['field'][agent_coord_x-2][agent_coord_y] != 0:\n",
    "                                return 0\n",
    "\n",
    "                        return 1\n",
    "\n",
    "\n",
    "            if ((agent_coord_x) % 2) == 0:\n",
    "                if x1 <= agent_coord_x and x2 <= agent_coord_x:\n",
    "                    return 0\n",
    "                else:\n",
    "                    return 1\n",
    "\n",
    "\n",
    "\n",
    "    #case 3:  three bombs (hell no, I aint gonna do this ... good luck)---------------------------------------\n",
    "\n",
    "\n",
    "\n",
    "    return 0"
   ]
  },
  {
   "cell_type": "code",
   "execution_count": 187,
   "metadata": {},
   "outputs": [],
   "source": [
    "bomben_ding = [[((1, 1), 3), (None, 3)], 2] #dangerous_bombs_and_number_of_dangerous_bombs"
   ]
  },
  {
   "cell_type": "code",
   "execution_count": 188,
   "metadata": {},
   "outputs": [
    {
     "data": {
      "text/plain": [
       "[((1, 1), 3), (None, 3)]"
      ]
     },
     "execution_count": 188,
     "metadata": {},
     "output_type": "execute_result"
    }
   ],
   "source": [
    "dangerous_bombs = [item[0] for item in bomben_ding[0]] \n",
    "dangerous_bombs_info = [item for item in bomben_ding[0]] \n",
    "dangerous_bombs_info"
   ]
  },
  {
   "cell_type": "code",
   "execution_count": 189,
   "metadata": {},
   "outputs": [
    {
     "data": {
      "text/plain": [
       "[((1, 1), 3)]"
      ]
     },
     "execution_count": 189,
     "metadata": {},
     "output_type": "execute_result"
    }
   ],
   "source": [
    "aaaa = [((1, 5), 2), (None, 0)]\n",
    "\n",
    "aaaa[1][0] != None\n",
    "\n",
    "\n",
    "\n",
    "[dangerous_bombs_info[i] for i in [i for i in range(len(dangerous_bombs_info)) if dangerous_bombs_info[i][0] != None]]\n",
    "\n",
    "#aaaa[ [i for i in range(len(aaaa)) if aaaa[i][0] != None] ]"
   ]
  },
  {
   "cell_type": "code",
   "execution_count": 199,
   "metadata": {},
   "outputs": [],
   "source": [
    "dangerous_bombs_and_number_of_dangerous_bombs = [[((1, 1), 3), ((1, 4), 3)], 2]"
   ]
  },
  {
   "cell_type": "code",
   "execution_count": 201,
   "metadata": {},
   "outputs": [
    {
     "name": "stdout",
     "output_type": "stream",
     "text": [
      "[(1, 1), (1, 4)]\n",
      "[((1, 1), 3), ((1, 4), 3)]\n"
     ]
    }
   ],
   "source": [
    "dangerous_bombs = [item[0] for item in dangerous_bombs_and_number_of_dangerous_bombs[0]] \n",
    "dangerous_bombs_info = [item for item in dangerous_bombs_and_number_of_dangerous_bombs[0]] \n",
    "\n",
    "print(dangerous_bombs)\n",
    "print(dangerous_bombs_info)\n",
    "\n",
    "number_of_dangerous_bombs = dangerous_bombs_and_number_of_dangerous_bombs[1]\n",
    "\n",
    "agent_coord_x = 1\n",
    "agent_coord_y = 2\n",
    "\n",
    "\n",
    "\n",
    "\n",
    "#case 1:  one bomb-------------------------------------------------------\n",
    "if number_of_dangerous_bombs == 1:\n",
    "\n",
    "    #get the bomb which is not 'None'\n",
    "    bomb_coord = dangerous_bombs[ [i for i in range(len(dangerous_bombs)) if dangerous_bombs[i] != None][0] ]\n",
    "    bomb_info = [dangerous_bombs_info[i] for i in [i for i in range(len(dangerous_bombs_info)) if dangerous_bombs_info[i][0] != None]]\n",
    "    print(bomb_coord)\n",
    "    bomb_arg = bomb_info[0]\n",
    "    \n",
    "    bomb_coord_x = bomb_coord[0]\n",
    "    bomb_coord_y = bomb_coord[1]\n",
    "\n",
    "    x, y = bomb_coord_x, bomb_coord_y "
   ]
  },
  {
   "cell_type": "code",
   "execution_count": 208,
   "metadata": {},
   "outputs": [
    {
     "name": "stdout",
     "output_type": "stream",
     "text": [
      "(1, 1)\n",
      "(1, 4)\n",
      "((1, 1), 3)\n",
      "((1, 4), 3)\n"
     ]
    }
   ],
   "source": [
    "#get the bombs which are not 'None'\n",
    "#get the indices [0,1] of not 'None' bombs in 'dangerous_bombs' list\n",
    "bomb_index = [i for i in range(len(dangerous_bombs)) if dangerous_bombs[i] != None]\n",
    "#get the indices [0,1] of not 'None' bombs in 'dangerous_bombs_info' list\n",
    "bomb_index_info = [i for i in range(len(dangerous_bombs_info)) if dangerous_bombs_info[i] != None]\n",
    "\n",
    "\n",
    "#get list of coordinates [(x,y), (x,y)] of bombs w/out 'None'\n",
    "bomb_coords = [dangerous_bombs[i] for i in bomb_index]\n",
    "#get list of all infos [((x,y),t), ((x,y),t)] of bombs w/out 'None'\n",
    "bomb_info = [dangerous_bombs_info[i] for i in bomb_index_info]\n",
    "\n",
    "\n",
    "#choose the 2 existing bombs coords (x,y)\n",
    "bomb_coord1 = bomb_coords[0]\n",
    "bomb_coord2 = bomb_coords[1]\n",
    "\n",
    "#choose the existing bombs infos ((x,y),t)\n",
    "bomb_arg1 = bomb_info[0]\n",
    "bomb_arg2 = bomb_info[1]\n"
   ]
  },
  {
   "cell_type": "code",
   "execution_count": 222,
   "metadata": {},
   "outputs": [],
   "source": [
    "def get_out_of_bomb_range(dangerous_bombs_and_number_of_dangerous_bombs, game_state, action, self):\n",
    "    \n",
    "    #only coordinates [(x,y), (x,y)]\n",
    "    dangerous_bombs = [item[0] for item in dangerous_bombs_and_number_of_dangerous_bombs[0]]\n",
    "    #all info [((x,y),t), ((x,y),t)]\n",
    "    dangerous_bombs_info = [item for item in dangerous_bombs_and_number_of_dangerous_bombs[0]] \n",
    "\n",
    "    number_of_dangerous_bombs = dangerous_bombs_and_number_of_dangerous_bombs[1]\n",
    "\n",
    "    agent_coord_x = game_state['self'][3][0]\n",
    "    agent_coord_y = game_state['self'][3][1]\n",
    "\n",
    "\n",
    "\n",
    "\n",
    "    #case 1:  one bomb-------------------------------------------------------\n",
    "    if number_of_dangerous_bombs == 1:\n",
    "\n",
    "        #get the bomb which is not 'None'\n",
    "        #get only coordinates (x,y) (no brackets)\n",
    "        bomb_coord = dangerous_bombs[ [i for i in range(len(dangerous_bombs)) if dangerous_bombs[i] != None][0] ]\n",
    "        #get all info [((x,y),t)]   (w/ brackets)\n",
    "        bomb_info = [dangerous_bombs_info[i] for i in [i for i in range(len(dangerous_bombs_info)) if dangerous_bombs_info[i][0] != None]]\n",
    "\n",
    "        #get the only existing bomb ((x,y),t)  (no brackets)\n",
    "        bomb_arg = bomb_info[0]\n",
    "        \n",
    "        bomb_coord_x = bomb_coord[0]\n",
    "        bomb_coord_y = bomb_coord[1]\n",
    "\n",
    "        x, y = bomb_coord_x, bomb_coord_y \n",
    "\n",
    "\n",
    "\n",
    "        # the direction which would move agent out of explosion range (if there is no wall or crate)\n",
    "        # (moving out of range but into a crate trap has no special consideration in this func BUT through 'goes_towards_crate_trap' \n",
    "        # func. agent will still be more likely to move out of range AND not into crate trap)\n",
    "        if action == 'UP':\n",
    "            if not ( is_bomb_dangerous(bomb_arg, agent_coord_x, agent_coord_y - 1) ) and is_bomb_dangerous(bomb_arg, agent_coord_x, agent_coord_y) and ( game_state['field'][agent_coord_x][agent_coord_y-1] == 0 ):\n",
    "                return 1\n",
    "\n",
    "        if action == 'RIGHT':\n",
    "            if not ( is_bomb_dangerous(bomb_arg, agent_coord_x + 1, agent_coord_y) ) and is_bomb_dangerous(bomb_arg, agent_coord_x, agent_coord_y) and ( game_state['field'][agent_coord_x+1][agent_coord_y] == 0 ):\n",
    "                return 1\n",
    "\n",
    "        if action == 'DOWN':\n",
    "            if not ( is_bomb_dangerous(bomb_arg, agent_coord_x, agent_coord_y + 1) ) and is_bomb_dangerous(bomb_arg, agent_coord_x, agent_coord_y) and ( game_state['field'][agent_coord_x][agent_coord_y+1] == 0 ):\n",
    "                return 1\n",
    "\n",
    "        if action == 'LEFT':\n",
    "            if not ( is_bomb_dangerous(bomb_arg, agent_coord_x - 1, agent_coord_y) ) and is_bomb_dangerous(bomb_arg, agent_coord_x, agent_coord_y) and ( game_state['field'][agent_coord_x-1][agent_coord_y] == 0 ):\n",
    "                return 1\n",
    "\n",
    "    \n",
    "\n",
    "\n",
    "\n",
    "\n",
    "    #case 2:  two bombs-------------------------------------------------------\n",
    "    if number_of_dangerous_bombs == 2:\n",
    "\n",
    "        #get the bombs which are not 'None'\n",
    "        #get the indices [0,1] of not 'None' bombs in 'dangerous_bombs' list\n",
    "        bomb_index = [i for i in range(len(dangerous_bombs)) if dangerous_bombs[i] != None]\n",
    "        #get the indices [0,1] of not 'None' bombs in 'dangerous_bombs_info' list\n",
    "        bomb_index_info = [i for i in range(len(dangerous_bombs_info)) if dangerous_bombs_info[i] != None]\n",
    "\n",
    "        #get list of coordinates [(x,y), (x,y)] of bombs w/out 'None'\n",
    "        bomb_coords = [dangerous_bombs[i] for i in bomb_index]\n",
    "        #get list of all infos [((x,y),t), ((x,y),t)] of bombs w/out 'None'\n",
    "        bomb_info = [dangerous_bombs_info[i] for i in bomb_index_info]\n",
    "\n",
    "        #choose the 2 existing bombs coords (x,y)\n",
    "        bomb_coord1 = bomb_coords[0]\n",
    "        bomb_coord2 = bomb_coords[1]\n",
    "\n",
    "        #choose the existing bombs infos ((x,y),t)\n",
    "        bomb_arg1 = bomb_info[0]\n",
    "        bomb_arg2 = bomb_info[1]\n",
    "        \n",
    "\n",
    "\n",
    "        x1 = bomb_coord1[0]\n",
    "        y1 = bomb_coord1[1]\n",
    "\n",
    "        x2 = bomb_coord2[0]\n",
    "        y2 = bomb_coord2[1]\n",
    "\n",
    "\n",
    "\n",
    "        # the next direction to be farther from both bombs\n",
    "        if action == 'UP':\n",
    "\n",
    "            #if agent moved to free lane, crate problem cant occure\n",
    "            if ((agent_coord_y - 1) % 2) != 0:\n",
    "                #check if agent can exit at least one bomb range\n",
    "                if not ( is_bomb_dangerous(bomb_arg1, agent_coord_x, agent_coord_y - 1) ) and is_bomb_dangerous(bomb_arg1, agent_coord_x, agent_coord_y) and ( game_state['field'][agent_coord_x][agent_coord_y-1] == 0 ):\n",
    "                    return 1\n",
    "                if not ( is_bomb_dangerous(bomb_arg2, agent_coord_x, agent_coord_y - 1) ) and is_bomb_dangerous(bomb_arg2, agent_coord_x, agent_coord_y) and ( game_state['field'][agent_coord_x][agent_coord_y-1] == 0 ):\n",
    "                    return 1\n",
    "\n",
    "            #if moved to |_|_|x|_|_| lane, check if agent would be trapped by crate above\n",
    "            else:\n",
    "                #move perpendicular to both bomb lines\n",
    "                if y1 == y2 :\n",
    "                    if not ( is_bomb_dangerous(bomb_arg1, agent_coord_x, agent_coord_y - 1) ) and is_bomb_dangerous(bomb_arg1, agent_coord_x, agent_coord_y) and ( game_state['field'][agent_coord_x][agent_coord_y-1] == 0 ):\n",
    "                        return 1\n",
    "                    if not ( is_bomb_dangerous(bomb_arg2, agent_coord_x, agent_coord_y - 1) ) and is_bomb_dangerous(bomb_arg2, agent_coord_x, agent_coord_y) and ( game_state['field'][agent_coord_x][agent_coord_y-1] == 0 ):\n",
    "                        return 1\n",
    "                #move parallel to both bomb lines\n",
    "                elif x1 == x2:\n",
    "                    #only move up if both bombs are below you, you exit one range and dont run into trap\n",
    "                    #both below you\n",
    "                    if y1 >= agent_coord_y and y2 >= agent_coord_y: ########################\n",
    "                        #you dont run into trap\n",
    "                        if game_state['field'][agent_coord_x][agent_coord_y-1] != -1:\n",
    "                            if game_state['field'][agent_coord_x][agent_coord_y-2] == 0:\n",
    "                                #you exist one of the bombs\n",
    "                                #exit bomb 1\n",
    "                                if not ( is_bomb_dangerous(bomb_arg1, agent_coord_x, agent_coord_y - 1) ) and is_bomb_dangerous(bomb_arg1, agent_coord_x, agent_coord_y) and ( game_state['field'][agent_coord_x][agent_coord_y-1] == 0 ):\n",
    "                                    return 1\n",
    "                                #exit bomb 2\n",
    "                                if not ( is_bomb_dangerous(bomb_arg2, agent_coord_x, agent_coord_y - 1) ) and is_bomb_dangerous(bomb_arg2, agent_coord_x, agent_coord_y) and ( game_state['field'][agent_coord_x][agent_coord_y-1] == 0 ):\n",
    "                                    return 1\n",
    "\n",
    "                #moves parallel to one bomb and perpendicular to other\n",
    "                else:\n",
    "                    #agent exits both bombs\n",
    "                    if not ( is_bomb_dangerous(bomb_arg1, agent_coord_x, agent_coord_y - 1) ) and is_bomb_dangerous(bomb_arg1, agent_coord_x, agent_coord_y) and ( game_state['field'][agent_coord_x][agent_coord_y-1] == 0 ):\n",
    "                        if not ( is_bomb_dangerous(bomb_arg2, agent_coord_x, agent_coord_y - 1) ) and is_bomb_dangerous(bomb_arg2, agent_coord_x, agent_coord_y) and ( game_state['field'][agent_coord_x][agent_coord_y-1] == 0 ):\n",
    "                            return 1\n",
    "                    #agent exits one bomb, doesnt run into trap and doesnt get closer to second bomb\n",
    "                    #you dont run into trap\n",
    "                    if game_state['field'][agent_coord_x][agent_coord_y-1] != -1:\n",
    "                        if game_state['field'][agent_coord_x][agent_coord_y-2] == 0: \n",
    "                            #exit bomb1\n",
    "                            if not ( is_bomb_dangerous(bomb_arg1, agent_coord_x, agent_coord_y - 1) ) and is_bomb_dangerous(bomb_arg1, agent_coord_x, agent_coord_y) and ( game_state['field'][agent_coord_x][agent_coord_y-1] == 0 ):\n",
    "                                #doesnt get closer to bomb2\n",
    "                                if abs(y2 - (agent_coord_y - 1)) >= abs(y2 - agent_coord_y): \n",
    "                                    return 1\n",
    "                            #exit bomb2\n",
    "                            if not ( is_bomb_dangerous(bomb_arg2, agent_coord_x, agent_coord_y - 1) ) and is_bomb_dangerous(bomb_arg2, agent_coord_x, agent_coord_y) and ( game_state['field'][agent_coord_x][agent_coord_y-1] == 0 ):\n",
    "                                #doesnt get closer to bomb1\n",
    "                                if abs(y1 - (agent_coord_y - 1)) >= abs(y1 - agent_coord_y): \n",
    "                                    return 1\n",
    "\n",
    "\n",
    "\n",
    "\n",
    "\n",
    "\n",
    "        if action == 'RIGHT':\n",
    "            #if agent moved to free lane, crate problem cant occure\n",
    "            if ((agent_coord_x + 1) % 2) != 0:\n",
    "                #check if agent can exit at least one bomb range\n",
    "                if not ( is_bomb_dangerous(bomb_arg1, agent_coord_x + 1, agent_coord_y) ) and is_bomb_dangerous(bomb_arg1, agent_coord_x, agent_coord_y) and ( game_state['field'][agent_coord_x+1][agent_coord_y] == 0 ):\n",
    "                    return 1\n",
    "                if not ( is_bomb_dangerous(bomb_arg2, agent_coord_x + 1, agent_coord_y) ) and is_bomb_dangerous(bomb_arg2, agent_coord_x, agent_coord_y) and ( game_state['field'][agent_coord_x+1][agent_coord_y] == 0 ):\n",
    "                    return 1\n",
    "\n",
    "            #if moved to |_|_|x|_|_| lane, check if agent would be trapped by crate to the right\n",
    "            else:\n",
    "                #move perpendicular to both bomb lines\n",
    "                if x1 == x2 :\n",
    "                    if not ( is_bomb_dangerous(bomb_arg1, agent_coord_x + 1, agent_coord_y) ) and is_bomb_dangerous(bomb_arg1, agent_coord_x, agent_coord_y) and ( game_state['field'][agent_coord_x+1][agent_coord_y] == 0 ):\n",
    "                        return 1\n",
    "                    if not ( is_bomb_dangerous(bomb_arg2, agent_coord_x + 1, agent_coord_y) ) and is_bomb_dangerous(bomb_arg2, agent_coord_x, agent_coord_y) and ( game_state['field'][agent_coord_x+1][agent_coord_y] == 0 ):\n",
    "                        return 1\n",
    "                #move parallel to both bomb lines\n",
    "                elif y1 == y2:\n",
    "                    #only move up if both bombs are left of you, you exit one range and dont run into trap\n",
    "                    #both below you\n",
    "                    if x1 <= agent_coord_x and x2 <= agent_coord_x: ####################\n",
    "                        #you dont run into trap\n",
    "                        if game_state['field'][agent_coord_x+1][agent_coord_y] != -1:\n",
    "                            if game_state['field'][agent_coord_x+2][agent_coord_y] == 0:\n",
    "                                #you exist one of the bombs\n",
    "                                #exit bomb 1\n",
    "                                if not ( is_bomb_dangerous(bomb_arg1, agent_coord_x + 1, agent_coord_y) ) and is_bomb_dangerous(bomb_arg1, agent_coord_x, agent_coord_y) and ( game_state['field'][agent_coord_x+1][agent_coord_y] == 0 ):\n",
    "                                    return 1\n",
    "                                #exit bomb 2\n",
    "                                if not ( is_bomb_dangerous(bomb_arg2, agent_coord_x + 1, agent_coord_y) ) and is_bomb_dangerous(bomb_arg2, agent_coord_x, agent_coord_y) and ( game_state['field'][agent_coord_x+1][agent_coord_y] == 0 ):\n",
    "                                    return 1\n",
    "\n",
    "                #moves parallel to one bomb and perpendicular to other\n",
    "                else:\n",
    "                    #agent exits both bombs\n",
    "                    if not ( is_bomb_dangerous(bomb_arg1, agent_coord_x + 1, agent_coord_y) ) and is_bomb_dangerous(bomb_arg1, agent_coord_x, agent_coord_y) and ( game_state['field'][agent_coord_x+1][agent_coord_y] == 0 ):\n",
    "                        if not ( is_bomb_dangerous(bomb_arg2, agent_coord_x + 1, agent_coord_y) ) and is_bomb_dangerous(bomb_arg2, agent_coord_x, agent_coord_y) and ( game_state['field'][agent_coord_x+1][agent_coord_y] == 0 ):\n",
    "                            return 1\n",
    "                    #agent exits one bomb, doesnt run into trap and doesnt get closer to second bomb\n",
    "                    #you dont run into trap\n",
    "                    if game_state['field'][agent_coord_x+1][agent_coord_y] != -1:\n",
    "                        if game_state['field'][agent_coord_x+2][agent_coord_y] == 0: \n",
    "                            #exit bomb1\n",
    "                            if not ( is_bomb_dangerous(bomb_arg1, agent_coord_x + 1, agent_coord_y) ) and is_bomb_dangerous(bomb_arg1, agent_coord_x, agent_coord_y) and ( game_state['field'][agent_coord_x+1][agent_coord_y] == 0 ):\n",
    "                                #doesnt get closer to bomb2\n",
    "                                if abs(x2 - (agent_coord_x + 1)) >= abs(x2 - agent_coord_x): \n",
    "                                    return 1\n",
    "                            #exit bomb2\n",
    "                            if not ( is_bomb_dangerous(bomb_arg2, agent_coord_x + 1, agent_coord_y) ) and is_bomb_dangerous(bomb_arg2, agent_coord_x, agent_coord_y) and ( game_state['field'][agent_coord_x+1][agent_coord_y] == 0 ):\n",
    "                                #doesnt get closer to bomb1\n",
    "                                if abs(x1 - (agent_coord_x + 1)) >= abs(x1 - agent_coord_x): \n",
    "                                    return 1\n",
    "\n",
    "\n",
    "\n",
    "\n",
    "\n",
    "\n",
    "        if action == 'DOWN':\n",
    "            #if agent IS in problematic lane  |_|_|x|_|_| ------> no crate trap possible\n",
    "            if ((agent_coord_y) % 2) == 0:\n",
    "                #check if agent can exit at least one bomb range\n",
    "                if not ( is_bomb_dangerous(bomb_arg1, agent_coord_x, agent_coord_y + 1) ) and is_bomb_dangerous(bomb_arg1, agent_coord_x, agent_coord_y) and ( game_state['field'][agent_coord_x][agent_coord_y+1] == 0 ):\n",
    "                    return 1\n",
    "                if not ( is_bomb_dangerous(bomb_arg2, agent_coord_x, agent_coord_y + 1) ) and is_bomb_dangerous(bomb_arg2, agent_coord_x, agent_coord_y) and ( game_state['field'][agent_coord_x][agent_coord_y+1] == 0 ):\n",
    "                    return 1\n",
    "\n",
    "            #if agent IS in free lane\n",
    "            if ((agent_coord_y) % 2) != 0:\n",
    "                #move perpendicular to both bomb lines\n",
    "                if y1 == y2 :\n",
    "                    if not ( is_bomb_dangerous(bomb_arg1, agent_coord_x, agent_coord_y + 1) ) and is_bomb_dangerous(bomb_arg1, agent_coord_x, agent_coord_y) and ( game_state['field'][agent_coord_x][agent_coord_y+1] == 0 ):\n",
    "                        return 1\n",
    "                    if not ( is_bomb_dangerous(bomb_arg2, agent_coord_x, agent_coord_y + 1) ) and is_bomb_dangerous(bomb_arg2, agent_coord_x, agent_coord_y) and ( game_state['field'][agent_coord_x][agent_coord_y+1] == 0 ):\n",
    "                        return 1\n",
    "                #move parallel to both bomb lines\n",
    "                elif x1 == x2:\n",
    "                    #only move up if both bombs are above you, you exit one range and dont run into trap\n",
    "                    #both above you\n",
    "                    if y1 <= agent_coord_y and y2 <= agent_coord_y: ########################\n",
    "                        #you dont run into trap\n",
    "                        if game_state['field'][agent_coord_x][agent_coord_y+1] != -1:\n",
    "                            if game_state['field'][agent_coord_x][agent_coord_y+2] == 0:\n",
    "                                #you exist one of the bombs\n",
    "                                #exit bomb 1\n",
    "                                if not ( is_bomb_dangerous(bomb_arg1, agent_coord_x, agent_coord_y + 1) ) and is_bomb_dangerous(bomb_arg1, agent_coord_x, agent_coord_y) and ( game_state['field'][agent_coord_x][agent_coord_y+1] == 0 ):\n",
    "                                    return 1\n",
    "                                #exit bomb 2\n",
    "                                if not ( is_bomb_dangerous(bomb_arg2, agent_coord_x, agent_coord_y + 1) ) and is_bomb_dangerous(bomb_arg2, agent_coord_x, agent_coord_y) and ( game_state['field'][agent_coord_x][agent_coord_y+1] == 0 ):\n",
    "                                    return 1\n",
    "\n",
    "                #moves parallel to one bomb and perpendicular to other\n",
    "                else:\n",
    "                    #agent exits both bombs\n",
    "                    if not ( is_bomb_dangerous(bomb_arg1, agent_coord_x, agent_coord_y - 1) ) and is_bomb_dangerous(bomb_arg1, agent_coord_x, agent_coord_y) and ( game_state['field'][agent_coord_x][agent_coord_y-1] == 0 ):\n",
    "                        if not ( is_bomb_dangerous(bomb_arg2, agent_coord_x, agent_coord_y - 1) ) and is_bomb_dangerous(bomb_arg2, agent_coord_x, agent_coord_y) and ( game_state['field'][agent_coord_x][agent_coord_y-1] == 0 ):\n",
    "                            return 1\n",
    "                    #agent exits one bomb, doesnt run into trap and doesnt get closer to second bomb\n",
    "                    #you dont run into trap\n",
    "                    if game_state['field'][agent_coord_x][agent_coord_y+1] != -1:\n",
    "                        if game_state['field'][agent_coord_x][agent_coord_y+2] == 0: \n",
    "                            #exit bomb1\n",
    "                            if not ( is_bomb_dangerous(bomb_arg1, agent_coord_x, agent_coord_y - 1) ) and is_bomb_dangerous(bomb_arg1, agent_coord_x, agent_coord_y) and ( game_state['field'][agent_coord_x][agent_coord_y-1] == 0 ):\n",
    "                                #doesnt get closer to bomb2\n",
    "                                if abs(y2 - (agent_coord_y - 1)) >= abs(y2 - agent_coord_y): \n",
    "                                    return 1\n",
    "                            #exit bomb2\n",
    "                            if not ( is_bomb_dangerous(bomb_arg2, agent_coord_x, agent_coord_y - 1) ) and is_bomb_dangerous(bomb_arg2, agent_coord_x, agent_coord_y) and ( game_state['field'][agent_coord_x][agent_coord_y-1] == 0 ):\n",
    "                                #doesnt get closer to bomb1\n",
    "                                if abs(y1 - (agent_coord_y - 1)) >= abs(y1 - agent_coord_y): \n",
    "                                    return 1\n",
    "\n",
    "\n",
    "            \n",
    "\n",
    "\n",
    "\n",
    "        if action == 'LEFT':\n",
    "            #if agent moved to free lane, crate problem cant occure\n",
    "            if ((agent_coord_x - 1) % 2) != 0:\n",
    "                #check if agent can exit at least one bomb range\n",
    "                if not ( is_bomb_dangerous(bomb_arg1, agent_coord_x - 1, agent_coord_y) ) and is_bomb_dangerous(bomb_arg1, agent_coord_x, agent_coord_y) and ( game_state['field'][agent_coord_x-1][agent_coord_y] == 0 ):\n",
    "                    return 1\n",
    "                if not ( is_bomb_dangerous(bomb_arg2, agent_coord_x - 1, agent_coord_y) ) and is_bomb_dangerous(bomb_arg2, agent_coord_x, agent_coord_y) and ( game_state['field'][agent_coord_x-1][agent_coord_y] == 0 ):\n",
    "                    return 1\n",
    "\n",
    "            #if moved to |_|_|x|_|_| lane, check if agent would be trapped by crate to the right\n",
    "            else:\n",
    "                #move perpendicular to both bomb lines\n",
    "                if x1 == x2 :\n",
    "                    if not ( is_bomb_dangerous(bomb_arg1, agent_coord_x - 1, agent_coord_y) ) and is_bomb_dangerous(bomb_arg1, agent_coord_x, agent_coord_y) and ( game_state['field'][agent_coord_x-1][agent_coord_y] == 0 ):\n",
    "                        return 1\n",
    "                    if not ( is_bomb_dangerous(bomb_arg2, agent_coord_x - 1, agent_coord_y) ) and is_bomb_dangerous(bomb_arg2, agent_coord_x, agent_coord_y) and ( game_state['field'][agent_coord_x-1][agent_coord_y] == 0 ):\n",
    "                        return 1\n",
    "                #move parallel to both bomb lines\n",
    "                elif y1 == y2:\n",
    "                    #only move up if both bombs are right of you, you exit one range and dont run into trap\n",
    "                    #both right to you\n",
    "                    if x1 >= agent_coord_x and x2 >= agent_coord_x: ####################\n",
    "                        #you dont run into trap\n",
    "                        if game_state['field'][agent_coord_x-1][agent_coord_y] != -1:\n",
    "                            if game_state['field'][agent_coord_x-2][agent_coord_y] == 0:\n",
    "                                #you exist one of the bombs\n",
    "                                #exit bomb 1\n",
    "                                if not ( is_bomb_dangerous(bomb_arg1, agent_coord_x - 1, agent_coord_y) ) and is_bomb_dangerous(bomb_arg1, agent_coord_x, agent_coord_y) and ( game_state['field'][agent_coord_x-1][agent_coord_y] == 0 ):\n",
    "                                    return 1\n",
    "                                #exit bomb 2\n",
    "                                if not ( is_bomb_dangerous(bomb_arg2, agent_coord_x - 1, agent_coord_y) ) and is_bomb_dangerous(bomb_arg2, agent_coord_x, agent_coord_y) and ( game_state['field'][agent_coord_x-1][agent_coord_y] == 0 ):\n",
    "                                    return 1\n",
    "\n",
    "                #moves parallel to one bomb and perpendicular to other\n",
    "                else:\n",
    "                    #agent exits both bombs\n",
    "                    if not ( is_bomb_dangerous(bomb_arg1, agent_coord_x - 1, agent_coord_y) ) and is_bomb_dangerous(bomb_arg1, agent_coord_x, agent_coord_y) and ( game_state['field'][agent_coord_x-1][agent_coord_y] == 0 ):\n",
    "                        if not ( is_bomb_dangerous(bomb_arg2, agent_coord_x - 1, agent_coord_y) ) and is_bomb_dangerous(bomb_arg2, agent_coord_x, agent_coord_y) and ( game_state['field'][agent_coord_x-1][agent_coord_y] == 0 ):\n",
    "                            return 1\n",
    "                    #agent exits one bomb, doesnt run into trap and doesnt get closer to second bomb\n",
    "                    #you dont run into trap\n",
    "                    if game_state['field'][agent_coord_x-1][agent_coord_y] != -1:\n",
    "                        if game_state['field'][agent_coord_x-2][agent_coord_y] == 0: \n",
    "                            #exit bomb1\n",
    "                            if not ( is_bomb_dangerous(bomb_arg1, agent_coord_x - 1, agent_coord_y) ) and is_bomb_dangerous(bomb_arg1, agent_coord_x, agent_coord_y) and ( game_state['field'][agent_coord_x-1][agent_coord_y] == 0 ):\n",
    "                                #doesnt get closer to bomb2\n",
    "                                if abs(x2 - (agent_coord_x - 1)) >= abs(x2 - agent_coord_x): \n",
    "                                    return 1\n",
    "                            #exit bomb2\n",
    "                            if not ( is_bomb_dangerous(bomb_arg2, agent_coord_x - 1, agent_coord_y) ) and is_bomb_dangerous(bomb_arg2, agent_coord_x, agent_coord_y) and ( game_state['field'][agent_coord_x-1][agent_coord_y] == 0 ):\n",
    "                                #doesnt get closer to bomb1\n",
    "                                if abs(x1 - (agent_coord_x - 1)) >= abs(x1 - agent_coord_x): \n",
    "                                    return 1\n",
    "\n",
    "\n",
    "\n",
    "\n",
    "\n",
    "\n",
    "    #case 3:  three bombs (hell no, I aint gonna do this ... good luck)---------------------------------------\n",
    "\n",
    "\n",
    "\n",
    "    return 0"
   ]
  },
  {
   "cell_type": "code",
   "execution_count": null,
   "metadata": {},
   "outputs": [],
   "source": []
  }
 ],
 "metadata": {
  "interpreter": {
   "hash": "7254a0aeccbfecfefd16a502f207c2dbc8a68d2ac5e9b090539b6cb2ac5bb5ed"
  },
  "kernelspec": {
   "display_name": "Python 3.9.7 64-bit",
   "language": "python",
   "name": "python3"
  },
  "language_info": {
   "codemirror_mode": {
    "name": "ipython",
    "version": 3
   },
   "file_extension": ".py",
   "mimetype": "text/x-python",
   "name": "python",
   "nbconvert_exporter": "python",
   "pygments_lexer": "ipython3",
   "version": "3.9.7"
  },
  "orig_nbformat": 4
 },
 "nbformat": 4,
 "nbformat_minor": 2
}
