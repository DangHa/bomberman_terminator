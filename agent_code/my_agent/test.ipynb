{
 "cells": [
  {
   "cell_type": "code",
   "execution_count": null,
   "metadata": {},
   "outputs": [],
   "source": [
    "transition_tuple = namedtuple('Transition', ('s', 'a', 'r', 'new_s'))\n",
    "    #transition_tuple = np.full((4), np.NaN)"
   ]
  },
  {
   "cell_type": "code",
   "execution_count": null,
   "metadata": {},
   "outputs": [],
   "source": [
    "    #(s, a, r, s') is initialized above\n",
    "    self.transitions = deque(maxlen=TRANSITION_HISTORY_SIZE)\n",
    "\n",
    "    #(epsilon, alpha, gamma) is initialized above\n",
    "    self.hyper_params = np.array([epsilon,alpha,gamma])"
   ]
  },
  {
   "cell_type": "code",
   "execution_count": null,
   "metadata": {},
   "outputs": [],
   "source": [
    "import os\n",
    "import pickle\n",
    "import random\n",
    "\n",
    "import numpy as np"
   ]
  },
  {
   "cell_type": "code",
   "execution_count": null,
   "metadata": {},
   "outputs": [],
   "source": [
    "weights = np.random.rand(3,6)"
   ]
  },
  {
   "cell_type": "code",
   "execution_count": null,
   "metadata": {},
   "outputs": [],
   "source": [
    "weights"
   ]
  },
  {
   "cell_type": "code",
   "execution_count": null,
   "metadata": {},
   "outputs": [],
   "source": [
    "weights * (1/np.sum(weights, axis=1))[:, np.newaxis]"
   ]
  },
  {
   "cell_type": "code",
   "execution_count": null,
   "metadata": {},
   "outputs": [],
   "source": [
    "np.matmul(1/np.linalg.norm(weights, axis=1), weights)"
   ]
  },
  {
   "cell_type": "code",
   "execution_count": null,
   "metadata": {},
   "outputs": [],
   "source": [
    "state_to_features = np.array([1,2,3])"
   ]
  },
  {
   "cell_type": "code",
   "execution_count": null,
   "metadata": {},
   "outputs": [],
   "source": [
    "a = np.matmul(state_to_features,weights)\n",
    "a"
   ]
  },
  {
   "cell_type": "code",
   "execution_count": null,
   "metadata": {},
   "outputs": [],
   "source": [
    "a = np.matmul(state_to_features,weights[:,0])\n",
    "\n",
    "a"
   ]
  },
  {
   "cell_type": "code",
   "execution_count": null,
   "metadata": {},
   "outputs": [],
   "source": [
    "a.argmax(axis=0)"
   ]
  },
  {
   "cell_type": "code",
   "execution_count": null,
   "metadata": {},
   "outputs": [],
   "source": [
    "a = np.array([[1,1],[2,2],[2,5],[1,3]])\n",
    "\n",
    "b = np.array([2,2])"
   ]
  },
  {
   "cell_type": "code",
   "execution_count": null,
   "metadata": {},
   "outputs": [],
   "source": [
    "np.sqrt((a[:,0]-b[0])**2 + (a[:,1]-b[1])**2).argmin()"
   ]
  },
  {
   "cell_type": "code",
   "execution_count": null,
   "metadata": {},
   "outputs": [],
   "source": [
    "np.linalg.norm(a-b)"
   ]
  },
  {
   "cell_type": "code",
   "execution_count": null,
   "metadata": {},
   "outputs": [],
   "source": [
    "game_state[\"coins\"]\n",
    "    game_state[\"self\"][3]\n",
    "\n",
    "    index_nearest_coin = np.sqrt((game_state[\"coins\"][:,0]-game_state[\"self\"][3][0])**2 + (game_state[\"coins\"][:,1]-game_state[\"self\"][3][1])**2).argmin()\n"
   ]
  },
  {
   "cell_type": "code",
   "execution_count": null,
   "metadata": {},
   "outputs": [],
   "source": [
    "\n",
    "\n",
    "# For example, you could construct several channels of equal shape, ...\n",
    "channels = []\n",
    "channels.append(np.zeros(6))\n",
    "channels.append(np.zeros(6))\n",
    "# concatenate them as a feature tensor (they must have the same shape), ...\n",
    "stacked_channels = np.stack(channels)\n",
    "# and return them as a vector\n",
    "stacked_channels.reshape(-1)"
   ]
  },
  {
   "cell_type": "code",
   "execution_count": null,
   "metadata": {},
   "outputs": [],
   "source": [
    "from collections import namedtuple, deque"
   ]
  },
  {
   "cell_type": "code",
   "execution_count": null,
   "metadata": {},
   "outputs": [],
   "source": [
    "TRANSITION_HISTORY_SIZE = 3\n",
    "d = deque(np.full((TRANSITION_HISTORY_SIZE), None), maxlen=TRANSITION_HISTORY_SIZE)\n",
    "\n",
    "d.append(1)\n",
    "d.append(2)\n",
    "d"
   ]
  },
  {
   "cell_type": "code",
   "execution_count": null,
   "metadata": {},
   "outputs": [],
   "source": [
    "TRANSITION_HISTORY_SIZE = 3\n",
    "d = deque(maxlen=TRANSITION_HISTORY_SIZE)\n",
    "\n",
    "d.append(1)\n",
    "d.append(2)\n",
    "d.append(3)\n",
    "d.append(4)\n",
    "\n",
    "d"
   ]
  },
  {
   "cell_type": "code",
   "execution_count": null,
   "metadata": {},
   "outputs": [],
   "source": [
    "os.path.isfile(\"my-saved-model.pt\")"
   ]
  },
  {
   "cell_type": "code",
   "execution_count": null,
   "metadata": {},
   "outputs": [],
   "source": [
    "self_coord = np.array([4,4])\n",
    "self_coord_new = np.array([3,4])\n",
    "\n",
    "bombs_coord = np.array([[4,0],[4,1],[4,2],[4,3],[4,4],[0,3],[1,3],[2,3],[3,3],[3,4]])"
   ]
  },
  {
   "cell_type": "code",
   "execution_count": null,
   "metadata": {},
   "outputs": [],
   "source": [
    "bombs_coord[0][1]"
   ]
  },
  {
   "cell_type": "code",
   "execution_count": null,
   "metadata": {},
   "outputs": [],
   "source": [
    "bombs_coord[( (bombs_coord[:,0] == self_coord[0]) & ((bombs_coord[:,1] >= self_coord[1] - 3) | (bombs_coord[:,1] <= self_coord[1] + 3))  ) | ( (bombs_coord[:,1] == self_coord[1]) & ((bombs_coord[:,0] >= self_coord[0] - 3) | (bombs_coord[:,0] <= self_coord[0] + 3)) )]"
   ]
  },
  {
   "cell_type": "code",
   "execution_count": null,
   "metadata": {},
   "outputs": [],
   "source": [
    "bombs_in_range = bombs_coord[( (bombs_coord[:,0] == self_coord[0]) & ((bombs_coord[:,1] >= self_coord[1] - 3) | (bombs_coord[:,1] <= self_coord[1] + 3))  ) | ( (bombs_coord[:,1] == self_coord[1]) & ((bombs_coord[:,0] >= self_coord[0] - 3) | (bombs_coord[:,0] <= self_coord[0] + 3)) )]"
   ]
  },
  {
   "cell_type": "code",
   "execution_count": null,
   "metadata": {},
   "outputs": [],
   "source": [
    "a = np.nonzero(self_coord_new - self_coord)\n",
    "b = np.where((self_coord_new - self_coord) == 0)[0][0]\n",
    "a = a[0][0]\n",
    "\n",
    "bombs_in_range[:,b]"
   ]
  },
  {
   "cell_type": "code",
   "execution_count": null,
   "metadata": {},
   "outputs": [],
   "source": [
    "def get_bombs_in_range(self_coord,bombs_coord):\n",
    "    return bombs_coord[( (bombs_coord[:,0] == self_coord[0]) & ((bombs_coord[:,1] >= self_coord[1] - 3) | (bombs_coord[:,1] <= self_coord[1] + 3))  ) | ( (bombs_coord[:,1] == self_coord[1]) & ((bombs_coord[:,0] >= self_coord[0] - 3) | (bombs_coord[:,0] <= self_coord[0] + 3)) )]"
   ]
  },
  {
   "cell_type": "code",
   "execution_count": null,
   "metadata": {},
   "outputs": [],
   "source": [
    "def goes_away_from_bomb(self_coord, bombs_in_range, self_coord_new):\n",
    "    \n",
    "    if bombs_in_range.size == 0:\n",
    "        return False, 0\n",
    "\n",
    "    else:\n",
    "        #coord that changed\n",
    "        a = np.nonzero(self_coord_new - self_coord)[0][0]\n",
    "        #coord that didnt change\n",
    "        b = np.where((self_coord_new - self_coord) == 0)[0][0]\n",
    "\n",
    "\n",
    "        #weighted score of number of moved away bombs\n",
    "        num = 0\n",
    "\n",
    "\n",
    "        #get points for moving out of range (moved orthogonally to bomb)\n",
    "        num += np.count_nonzero(bombs_in_range[:,b] != self_coord[a])\n",
    "\n",
    "        #moved parallel to bomb\n",
    "\n",
    "        #remaining bombs\n",
    "        remaining_bombs = bombs_in_range[bombs_in_range[:,b] == self_coord[b]]\n",
    "\n",
    "        #give reward for moving away from bombs\n",
    "        num += 1 * ((abs(remaining_bombs[:,a] - self_coord_new[a]) - abs(remaining_bombs[:,a] - self_coord[a])) == 1).sum()\n",
    "\n",
    "        #give penalty for moving towards ... number of bombs\n",
    "        num -= 5 * ((abs(remaining_bombs[:,a] - self_coord_new[a]) - abs(remaining_bombs[:,a] - self_coord[a])) == -1).sum()\n",
    "\n",
    "        return True, num\n",
    "\n",
    "    \n"
   ]
  },
  {
   "cell_type": "code",
   "execution_count": null,
   "metadata": {},
   "outputs": [],
   "source": [
    "game_state[\"bombs\"][0][0] - game_state[\"self\"][3]"
   ]
  },
  {
   "cell_type": "code",
   "execution_count": null,
   "metadata": {},
   "outputs": [],
   "source": [
    "game_state_bombs_00 = np.array([4,4])\n",
    "game_state_self = np.array([3,4])\n",
    "\n",
    "\n",
    "game_state_bombs_00 - game_state_self"
   ]
  },
  {
   "cell_type": "code",
   "execution_count": null,
   "metadata": {},
   "outputs": [],
   "source": [
    "np.sqrt((game_state[\"coins\"][:,0]-game_state[\"self\"][3][0])**2 + (game_state[\"coins\"][:,1]-game_state[\"self\"][3][1])**2).argmin()"
   ]
  },
  {
   "cell_type": "code",
   "execution_count": null,
   "metadata": {},
   "outputs": [],
   "source": [
    "w = np.array([1,2,3,4])\n",
    "\n",
    "f = np.array([[1,2,1,1],[1,2,3,1]])"
   ]
  },
  {
   "cell_type": "code",
   "execution_count": null,
   "metadata": {},
   "outputs": [],
   "source": [
    "print(w * f)\n",
    "print(((w * f).sum(axis=1)))\n",
    "print(((w * f).sum(axis=1)).argmax(axis=0))"
   ]
  },
  {
   "cell_type": "code",
   "execution_count": null,
   "metadata": {},
   "outputs": [],
   "source": [
    "f = np.array([1,2,1,1])\n",
    "print((w * f))\n",
    "print(sum(w * f))"
   ]
  },
  {
   "cell_type": "code",
   "execution_count": 1,
   "metadata": {},
   "outputs": [],
   "source": [
    "import numpy as np"
   ]
  },
  {
   "cell_type": "code",
   "execution_count": 19,
   "metadata": {},
   "outputs": [],
   "source": [
    "a = np.array([[-1, -1, -1, -1, -1, -1, -1, -1, -1, -1, -1, -1, -1, -1, -1, -1, -1],\n",
    " [-1,  0,  0,  1,  0,  1,  0,  0,  0,  0,  0,  0,  0,  0,  0,  0, -1],\n",
    " [-1,  0, -1,  0, -1,  0, -1,  0, -1,  0, -1,  0, -1,  0, -1,  0, -1],\n",
    " [-1,  0,  0,  1,  0,  0,  0,  0,  0,  0,  0,  0,  0,  0,  0,  0, -1],\n",
    " [-1,  0, -1,  0, -1,  0, -1,  0, -1,  0, -1,  0, -1,  0, -1,  0, -1],\n",
    " [-1,  0,  0,  0,  0,  0,  0,  0,  0,  0,  0,  0,  0,  0,  0,  0, -1],\n",
    " [-1,  0, -1,  0, -1,  0, -1,  0, -1,  0, -1,  0, -1,  0, -1,  0, -1],\n",
    " [-1,  0,  0,  0,  0,  0,  0,  0,  0,  0,  0,  0,  0,  0,  0,  0, -1],\n",
    " [-1,  0, -1,  0, -1,  0, -1,  0, -1,  0, -1,  0, -1,  0, -1,  0, -1],\n",
    " [-1,  0,  0,  0,  0,  0,  0,  0,  0,  0,  0,  0,  0,  0,  0,  0, -1],\n",
    " [-1,  0, -1,  0, -1,  0, -1,  0, -1,  0, -1,  0, -1,  0, -1,  0, -1],\n",
    " [-1,  0,  0,  0,  0,  0,  0,  0,  0,  0,  0,  0,  0,  0,  0,  0, -1],\n",
    " [-1,  1, -1,  0, -1,  0, -1,  0, -1,  0, -1,  0, -1,  0, -1,  0, -1],\n",
    " [-1,  0,  0,  0,  0,  0,  0,  0,  0,  0,  0,  0,  0,  0,  0,  0, -1],\n",
    " [-1,  0, -1,  0, -1,  0, -1,  0, -1,  0, -1,  0, -1,  0, -1,  0, -1],\n",
    " [-1,  0,  0,  0,  0,  0,  0,  0,  0,  0,  0,  0,  0,  0,  0,  0, -1],\n",
    " [-1, -1, -1, -1, -1, -1, -1, -1, -1, -1, -1, -1, -1, -1, -1, -1, -1]])\n",
    "\n"
   ]
  },
  {
   "cell_type": "code",
   "execution_count": null,
   "metadata": {},
   "outputs": [],
   "source": [
    "len(a)"
   ]
  },
  {
   "cell_type": "code",
   "execution_count": null,
   "metadata": {},
   "outputs": [],
   "source": [
    "        \n",
    "        self.logger.info(f\"Last 4 stored actions:  {self.former_action}\")\n",
    "        if len(self.former_action) == 5:\n",
    "            if (self.former_action[0] == self.former_action[2]) and (self.former_action[1] == self.former_action[3]) and (self.former_action[0] != self.former_action[1]) and (self.former_action[2] != self.former_action[3]):\n",
    "                self.logger.info(f\"Your are in a loop!\")\n",
    "                if self_action == self.former_action[0]:\n",
    "                    self.logger.info(f\"Your continue the loop you fool!  -5 \")"
   ]
  },
  {
   "cell_type": "code",
   "execution_count": 24,
   "metadata": {},
   "outputs": [
    {
     "data": {
      "text/plain": [
       "False"
      ]
     },
     "execution_count": 24,
     "metadata": {},
     "output_type": "execute_result"
    }
   ],
   "source": [
    "'d' in ['UP', 'DOWN']"
   ]
  },
  {
   "cell_type": "code",
   "execution_count": null,
   "metadata": {},
   "outputs": [],
   "source": []
  }
 ],
 "metadata": {
  "interpreter": {
   "hash": "7254a0aeccbfecfefd16a502f207c2dbc8a68d2ac5e9b090539b6cb2ac5bb5ed"
  },
  "kernelspec": {
   "display_name": "Python 3.9.7 64-bit",
   "language": "python",
   "name": "python3"
  },
  "language_info": {
   "codemirror_mode": {
    "name": "ipython",
    "version": 3
   },
   "file_extension": ".py",
   "mimetype": "text/x-python",
   "name": "python",
   "nbconvert_exporter": "python",
   "pygments_lexer": "ipython3",
   "version": "3.9.7"
  },
  "orig_nbformat": 4
 },
 "nbformat": 4,
 "nbformat_minor": 2
}
